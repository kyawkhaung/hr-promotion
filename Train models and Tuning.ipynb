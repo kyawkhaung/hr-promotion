{
 "cells": [
  {
   "cell_type": "code",
   "execution_count": 83,
   "metadata": {},
   "outputs": [],
   "source": [
    "import pandas as pd\n",
    "import numpy as np\n",
    "import matplotlib.pyplot as plt\n",
    "import seaborn as sns\n",
    "sns.set_theme(style=\"whitegrid\")\n",
    "%matplotlib inline\n",
    "\n",
    "from sklearn.model_selection import train_test_split\n",
    "from sklearn.ensemble import RandomForestClassifier\n",
    "from sklearn.model_selection import RandomizedSearchCV, KFold, StratifiedKFold, RepeatedStratifiedKFold\n",
    "from sklearn import model_selection\n",
    "from xgboost import XGBClassifier\n",
    "from sklearn.metrics import make_scorer, accuracy_score, precision_score, recall_score, f1_score, confusion_matrix"
   ]
  },
  {
   "cell_type": "code",
   "execution_count": 84,
   "metadata": {},
   "outputs": [
    {
     "data": {
      "text/html": [
       "<div>\n",
       "<style scoped>\n",
       "    .dataframe tbody tr th:only-of-type {\n",
       "        vertical-align: middle;\n",
       "    }\n",
       "\n",
       "    .dataframe tbody tr th {\n",
       "        vertical-align: top;\n",
       "    }\n",
       "\n",
       "    .dataframe thead th {\n",
       "        text-align: right;\n",
       "    }\n",
       "</style>\n",
       "<table border=\"1\" class=\"dataframe\">\n",
       "  <thead>\n",
       "    <tr style=\"text-align: right;\">\n",
       "      <th></th>\n",
       "      <th>employee_id</th>\n",
       "      <th>department</th>\n",
       "      <th>region</th>\n",
       "      <th>education</th>\n",
       "      <th>gender</th>\n",
       "      <th>recruitment_channel</th>\n",
       "      <th>no_of_trainings</th>\n",
       "      <th>age</th>\n",
       "      <th>previous_year_rating</th>\n",
       "      <th>length_of_service</th>\n",
       "      <th>KPIs_met &gt;80%</th>\n",
       "      <th>awards_won?</th>\n",
       "      <th>avg_training_score</th>\n",
       "      <th>is_promoted</th>\n",
       "    </tr>\n",
       "  </thead>\n",
       "  <tbody>\n",
       "    <tr>\n",
       "      <th>0</th>\n",
       "      <td>65438</td>\n",
       "      <td>Sales &amp; Marketing</td>\n",
       "      <td>region_7</td>\n",
       "      <td>Master's &amp; above</td>\n",
       "      <td>f</td>\n",
       "      <td>sourcing</td>\n",
       "      <td>1</td>\n",
       "      <td>35</td>\n",
       "      <td>5.0</td>\n",
       "      <td>8</td>\n",
       "      <td>1</td>\n",
       "      <td>0</td>\n",
       "      <td>49</td>\n",
       "      <td>0</td>\n",
       "    </tr>\n",
       "    <tr>\n",
       "      <th>1</th>\n",
       "      <td>65141</td>\n",
       "      <td>Operations</td>\n",
       "      <td>region_22</td>\n",
       "      <td>Bachelor's</td>\n",
       "      <td>m</td>\n",
       "      <td>other</td>\n",
       "      <td>1</td>\n",
       "      <td>30</td>\n",
       "      <td>5.0</td>\n",
       "      <td>4</td>\n",
       "      <td>0</td>\n",
       "      <td>0</td>\n",
       "      <td>60</td>\n",
       "      <td>0</td>\n",
       "    </tr>\n",
       "    <tr>\n",
       "      <th>2</th>\n",
       "      <td>7513</td>\n",
       "      <td>Sales &amp; Marketing</td>\n",
       "      <td>region_19</td>\n",
       "      <td>Bachelor's</td>\n",
       "      <td>m</td>\n",
       "      <td>sourcing</td>\n",
       "      <td>1</td>\n",
       "      <td>34</td>\n",
       "      <td>3.0</td>\n",
       "      <td>7</td>\n",
       "      <td>0</td>\n",
       "      <td>0</td>\n",
       "      <td>50</td>\n",
       "      <td>0</td>\n",
       "    </tr>\n",
       "    <tr>\n",
       "      <th>3</th>\n",
       "      <td>2542</td>\n",
       "      <td>Sales &amp; Marketing</td>\n",
       "      <td>region_23</td>\n",
       "      <td>Bachelor's</td>\n",
       "      <td>m</td>\n",
       "      <td>other</td>\n",
       "      <td>2</td>\n",
       "      <td>39</td>\n",
       "      <td>1.0</td>\n",
       "      <td>10</td>\n",
       "      <td>0</td>\n",
       "      <td>0</td>\n",
       "      <td>50</td>\n",
       "      <td>0</td>\n",
       "    </tr>\n",
       "    <tr>\n",
       "      <th>4</th>\n",
       "      <td>48945</td>\n",
       "      <td>Technology</td>\n",
       "      <td>region_26</td>\n",
       "      <td>Bachelor's</td>\n",
       "      <td>m</td>\n",
       "      <td>other</td>\n",
       "      <td>1</td>\n",
       "      <td>45</td>\n",
       "      <td>3.0</td>\n",
       "      <td>2</td>\n",
       "      <td>0</td>\n",
       "      <td>0</td>\n",
       "      <td>73</td>\n",
       "      <td>0</td>\n",
       "    </tr>\n",
       "  </tbody>\n",
       "</table>\n",
       "</div>"
      ],
      "text/plain": [
       "   employee_id         department     region         education gender  \\\n",
       "0        65438  Sales & Marketing   region_7  Master's & above      f   \n",
       "1        65141         Operations  region_22        Bachelor's      m   \n",
       "2         7513  Sales & Marketing  region_19        Bachelor's      m   \n",
       "3         2542  Sales & Marketing  region_23        Bachelor's      m   \n",
       "4        48945         Technology  region_26        Bachelor's      m   \n",
       "\n",
       "  recruitment_channel  no_of_trainings  age  previous_year_rating  \\\n",
       "0            sourcing                1   35                   5.0   \n",
       "1               other                1   30                   5.0   \n",
       "2            sourcing                1   34                   3.0   \n",
       "3               other                2   39                   1.0   \n",
       "4               other                1   45                   3.0   \n",
       "\n",
       "   length_of_service  KPIs_met >80%  awards_won?  avg_training_score  \\\n",
       "0                  8              1            0                  49   \n",
       "1                  4              0            0                  60   \n",
       "2                  7              0            0                  50   \n",
       "3                 10              0            0                  50   \n",
       "4                  2              0            0                  73   \n",
       "\n",
       "   is_promoted  \n",
       "0            0  \n",
       "1            0  \n",
       "2            0  \n",
       "3            0  \n",
       "4            0  "
      ]
     },
     "execution_count": 84,
     "metadata": {},
     "output_type": "execute_result"
    }
   ],
   "source": [
    "a = pd.read_csv('train.csv')\n",
    "b = pd.read_csv('test.csv')\n",
    "a.head()"
   ]
  },
  {
   "cell_type": "code",
   "execution_count": 123,
   "metadata": {},
   "outputs": [],
   "source": [
    "Train.to_csv('Cleaned_Train.csv', index=False)\n",
    "Test.to_csv('Cleaned_Test.csv', index=False)"
   ]
  },
  {
   "cell_type": "code",
   "execution_count": 124,
   "metadata": {},
   "outputs": [],
   "source": [
    "cleaned_train = pd.read_csv('Cleaned_Train.csv')\n",
    "cleaned_test = pd.read_csv('Cleaned_Test.csv')"
   ]
  },
  {
   "cell_type": "code",
   "execution_count": 125,
   "metadata": {},
   "outputs": [
    {
     "data": {
      "text/plain": [
       "((54808, 13), (23490, 13))"
      ]
     },
     "execution_count": 125,
     "metadata": {},
     "output_type": "execute_result"
    }
   ],
   "source": [
    "cleaned_train.shape, cleaned_test.shape"
   ]
  },
  {
   "cell_type": "code",
   "execution_count": 126,
   "metadata": {},
   "outputs": [],
   "source": [
    "X = cleaned_train.drop(['is_promoted', 'employee_id'], axis=1)\n",
    "y = cleaned_train['is_promoted']\n",
    "Test_Data = cleaned_test.drop(['is_promoted', 'employee_id'], axis=1)"
   ]
  },
  {
   "cell_type": "code",
   "execution_count": 127,
   "metadata": {},
   "outputs": [
    {
     "data": {
      "text/html": [
       "<div>\n",
       "<style scoped>\n",
       "    .dataframe tbody tr th:only-of-type {\n",
       "        vertical-align: middle;\n",
       "    }\n",
       "\n",
       "    .dataframe tbody tr th {\n",
       "        vertical-align: top;\n",
       "    }\n",
       "\n",
       "    .dataframe thead th {\n",
       "        text-align: right;\n",
       "    }\n",
       "</style>\n",
       "<table border=\"1\" class=\"dataframe\">\n",
       "  <thead>\n",
       "    <tr style=\"text-align: right;\">\n",
       "      <th></th>\n",
       "      <th>department</th>\n",
       "      <th>education</th>\n",
       "      <th>no_of_trainings</th>\n",
       "      <th>age</th>\n",
       "      <th>previous_year_rating</th>\n",
       "      <th>length_of_service</th>\n",
       "      <th>KPIs_met &gt;80%</th>\n",
       "      <th>awards_won?</th>\n",
       "      <th>avg_training_score</th>\n",
       "      <th>gender_m</th>\n",
       "      <th>age_grp</th>\n",
       "    </tr>\n",
       "  </thead>\n",
       "  <tbody>\n",
       "    <tr>\n",
       "      <th>0</th>\n",
       "      <td>1</td>\n",
       "      <td>3</td>\n",
       "      <td>1</td>\n",
       "      <td>35</td>\n",
       "      <td>5.0</td>\n",
       "      <td>8</td>\n",
       "      <td>1</td>\n",
       "      <td>0</td>\n",
       "      <td>49</td>\n",
       "      <td>0</td>\n",
       "      <td>30</td>\n",
       "    </tr>\n",
       "    <tr>\n",
       "      <th>1</th>\n",
       "      <td>2</td>\n",
       "      <td>2</td>\n",
       "      <td>1</td>\n",
       "      <td>30</td>\n",
       "      <td>5.0</td>\n",
       "      <td>4</td>\n",
       "      <td>0</td>\n",
       "      <td>0</td>\n",
       "      <td>60</td>\n",
       "      <td>1</td>\n",
       "      <td>20</td>\n",
       "    </tr>\n",
       "    <tr>\n",
       "      <th>2</th>\n",
       "      <td>1</td>\n",
       "      <td>2</td>\n",
       "      <td>1</td>\n",
       "      <td>34</td>\n",
       "      <td>3.0</td>\n",
       "      <td>7</td>\n",
       "      <td>0</td>\n",
       "      <td>0</td>\n",
       "      <td>50</td>\n",
       "      <td>1</td>\n",
       "      <td>30</td>\n",
       "    </tr>\n",
       "    <tr>\n",
       "      <th>3</th>\n",
       "      <td>1</td>\n",
       "      <td>2</td>\n",
       "      <td>2</td>\n",
       "      <td>39</td>\n",
       "      <td>1.0</td>\n",
       "      <td>10</td>\n",
       "      <td>0</td>\n",
       "      <td>0</td>\n",
       "      <td>50</td>\n",
       "      <td>1</td>\n",
       "      <td>30</td>\n",
       "    </tr>\n",
       "    <tr>\n",
       "      <th>4</th>\n",
       "      <td>3</td>\n",
       "      <td>2</td>\n",
       "      <td>1</td>\n",
       "      <td>45</td>\n",
       "      <td>3.0</td>\n",
       "      <td>2</td>\n",
       "      <td>0</td>\n",
       "      <td>0</td>\n",
       "      <td>73</td>\n",
       "      <td>1</td>\n",
       "      <td>40</td>\n",
       "    </tr>\n",
       "  </tbody>\n",
       "</table>\n",
       "</div>"
      ],
      "text/plain": [
       "   department  education  no_of_trainings  age  previous_year_rating  \\\n",
       "0           1          3                1   35                   5.0   \n",
       "1           2          2                1   30                   5.0   \n",
       "2           1          2                1   34                   3.0   \n",
       "3           1          2                2   39                   1.0   \n",
       "4           3          2                1   45                   3.0   \n",
       "\n",
       "   length_of_service  KPIs_met >80%  awards_won?  avg_training_score  \\\n",
       "0                  8              1            0                  49   \n",
       "1                  4              0            0                  60   \n",
       "2                  7              0            0                  50   \n",
       "3                 10              0            0                  50   \n",
       "4                  2              0            0                  73   \n",
       "\n",
       "   gender_m  age_grp  \n",
       "0         0       30  \n",
       "1         1       20  \n",
       "2         1       30  \n",
       "3         1       30  \n",
       "4         1       40  "
      ]
     },
     "execution_count": 127,
     "metadata": {},
     "output_type": "execute_result"
    }
   ],
   "source": [
    "X.head()"
   ]
  },
  {
   "cell_type": "code",
   "execution_count": 128,
   "metadata": {},
   "outputs": [
    {
     "data": {
      "text/html": [
       "<div>\n",
       "<style scoped>\n",
       "    .dataframe tbody tr th:only-of-type {\n",
       "        vertical-align: middle;\n",
       "    }\n",
       "\n",
       "    .dataframe tbody tr th {\n",
       "        vertical-align: top;\n",
       "    }\n",
       "\n",
       "    .dataframe thead th {\n",
       "        text-align: right;\n",
       "    }\n",
       "</style>\n",
       "<table border=\"1\" class=\"dataframe\">\n",
       "  <thead>\n",
       "    <tr style=\"text-align: right;\">\n",
       "      <th></th>\n",
       "      <th>department</th>\n",
       "      <th>education</th>\n",
       "      <th>no_of_trainings</th>\n",
       "      <th>age</th>\n",
       "      <th>previous_year_rating</th>\n",
       "      <th>length_of_service</th>\n",
       "      <th>KPIs_met &gt;80%</th>\n",
       "      <th>awards_won?</th>\n",
       "      <th>avg_training_score</th>\n",
       "      <th>gender_m</th>\n",
       "      <th>age_grp</th>\n",
       "    </tr>\n",
       "  </thead>\n",
       "  <tbody>\n",
       "    <tr>\n",
       "      <th>0</th>\n",
       "      <td>3</td>\n",
       "      <td>2</td>\n",
       "      <td>1</td>\n",
       "      <td>24</td>\n",
       "      <td>3.332219</td>\n",
       "      <td>1</td>\n",
       "      <td>1</td>\n",
       "      <td>0</td>\n",
       "      <td>77</td>\n",
       "      <td>1</td>\n",
       "      <td>20</td>\n",
       "    </tr>\n",
       "    <tr>\n",
       "      <th>1</th>\n",
       "      <td>8</td>\n",
       "      <td>2</td>\n",
       "      <td>1</td>\n",
       "      <td>31</td>\n",
       "      <td>3.000000</td>\n",
       "      <td>5</td>\n",
       "      <td>0</td>\n",
       "      <td>0</td>\n",
       "      <td>51</td>\n",
       "      <td>0</td>\n",
       "      <td>30</td>\n",
       "    </tr>\n",
       "    <tr>\n",
       "      <th>2</th>\n",
       "      <td>1</td>\n",
       "      <td>2</td>\n",
       "      <td>1</td>\n",
       "      <td>31</td>\n",
       "      <td>1.000000</td>\n",
       "      <td>4</td>\n",
       "      <td>0</td>\n",
       "      <td>0</td>\n",
       "      <td>47</td>\n",
       "      <td>1</td>\n",
       "      <td>30</td>\n",
       "    </tr>\n",
       "    <tr>\n",
       "      <th>3</th>\n",
       "      <td>6</td>\n",
       "      <td>2</td>\n",
       "      <td>3</td>\n",
       "      <td>31</td>\n",
       "      <td>2.000000</td>\n",
       "      <td>9</td>\n",
       "      <td>0</td>\n",
       "      <td>0</td>\n",
       "      <td>65</td>\n",
       "      <td>0</td>\n",
       "      <td>30</td>\n",
       "    </tr>\n",
       "    <tr>\n",
       "      <th>4</th>\n",
       "      <td>7</td>\n",
       "      <td>2</td>\n",
       "      <td>1</td>\n",
       "      <td>30</td>\n",
       "      <td>4.000000</td>\n",
       "      <td>7</td>\n",
       "      <td>0</td>\n",
       "      <td>0</td>\n",
       "      <td>61</td>\n",
       "      <td>1</td>\n",
       "      <td>20</td>\n",
       "    </tr>\n",
       "  </tbody>\n",
       "</table>\n",
       "</div>"
      ],
      "text/plain": [
       "   department  education  no_of_trainings  age  previous_year_rating  \\\n",
       "0           3          2                1   24              3.332219   \n",
       "1           8          2                1   31              3.000000   \n",
       "2           1          2                1   31              1.000000   \n",
       "3           6          2                3   31              2.000000   \n",
       "4           7          2                1   30              4.000000   \n",
       "\n",
       "   length_of_service  KPIs_met >80%  awards_won?  avg_training_score  \\\n",
       "0                  1              1            0                  77   \n",
       "1                  5              0            0                  51   \n",
       "2                  4              0            0                  47   \n",
       "3                  9              0            0                  65   \n",
       "4                  7              0            0                  61   \n",
       "\n",
       "   gender_m  age_grp  \n",
       "0         1       20  \n",
       "1         0       30  \n",
       "2         1       30  \n",
       "3         0       30  \n",
       "4         1       20  "
      ]
     },
     "execution_count": 128,
     "metadata": {},
     "output_type": "execute_result"
    }
   ],
   "source": [
    "Test_Data.head()"
   ]
  },
  {
   "cell_type": "code",
   "execution_count": 129,
   "metadata": {},
   "outputs": [
    {
     "name": "stdout",
     "output_type": "stream",
     "text": [
      "<class 'pandas.core.frame.DataFrame'>\n",
      "RangeIndex: 54808 entries, 0 to 54807\n",
      "Data columns (total 11 columns):\n",
      " #   Column                Non-Null Count  Dtype  \n",
      "---  ------                --------------  -----  \n",
      " 0   department            54808 non-null  int64  \n",
      " 1   education             54808 non-null  int64  \n",
      " 2   no_of_trainings       54808 non-null  int64  \n",
      " 3   age                   54808 non-null  int64  \n",
      " 4   previous_year_rating  54808 non-null  float64\n",
      " 5   length_of_service     54808 non-null  int64  \n",
      " 6   KPIs_met >80%         54808 non-null  int64  \n",
      " 7   awards_won?           54808 non-null  int64  \n",
      " 8   avg_training_score    54808 non-null  int64  \n",
      " 9   gender_m              54808 non-null  int64  \n",
      " 10  age_grp               54808 non-null  int64  \n",
      "dtypes: float64(1), int64(10)\n",
      "memory usage: 4.6 MB\n"
     ]
    }
   ],
   "source": [
    "X.info()"
   ]
  },
  {
   "cell_type": "code",
   "execution_count": 130,
   "metadata": {},
   "outputs": [
    {
     "name": "stdout",
     "output_type": "stream",
     "text": [
      "0.0    50140\n",
      "1.0     4668\n",
      "Name: is_promoted, dtype: int64\n"
     ]
    }
   ],
   "source": [
    "print(y.value_counts())"
   ]
  },
  {
   "cell_type": "code",
   "execution_count": 131,
   "metadata": {},
   "outputs": [],
   "source": [
    "X_train, X_test, y_train, y_test = train_test_split(X, y, test_size=0.3, random_state=123)"
   ]
  },
  {
   "cell_type": "code",
   "execution_count": 132,
   "metadata": {},
   "outputs": [],
   "source": [
    "#sm = SMOTE(random_state=12)\n",
    "#X_train, y_train = sm.fit_sample(X_train_orginal, y_train_orginal)"
   ]
  },
  {
   "cell_type": "code",
   "execution_count": 133,
   "metadata": {},
   "outputs": [],
   "source": [
    "#cv = StratifiedKFold(n_splits=10, shuffle=True)\n",
    "\n",
    "scoring = {'accuracy' : make_scorer(accuracy_score), \n",
    "           'precision' : make_scorer(precision_score),\n",
    "           'recall' : make_scorer(recall_score), \n",
    "           'f1_score' : make_scorer(f1_score)}"
   ]
  },
  {
   "cell_type": "code",
   "execution_count": 134,
   "metadata": {},
   "outputs": [],
   "source": [
    "rf_model = RandomForestClassifier()\n",
    "rf_model.fit(X_train, y_train) \n",
    "rf_model_preds = rf_model.predict(X_test)"
   ]
  },
  {
   "cell_type": "code",
   "execution_count": 135,
   "metadata": {},
   "outputs": [
    {
     "name": "stdout",
     "output_type": "stream",
     "text": [
      "0.46718903036238985\n"
     ]
    }
   ],
   "source": [
    "print(f1_score(y_test, rf_model_preds))"
   ]
  },
  {
   "cell_type": "code",
   "execution_count": 136,
   "metadata": {},
   "outputs": [],
   "source": [
    "rf_cm = confusion_matrix(y_test, rf_model_preds)"
   ]
  },
  {
   "cell_type": "code",
   "execution_count": 137,
   "metadata": {},
   "outputs": [],
   "source": [
    "def generate_confusion_matrix(cm):\n",
    "    \n",
    "    group_names  = ['True Positive','False Positive','False Negative','True Negative']\n",
    "    group_counts = ['{0:0.0f}'.format(value) for value in cm.flatten()]\n",
    "    group_percentages = ['{0:.2%}'.format(value) for value in cm.flatten()/np.sum(cm)]\n",
    "    labels = [f'{v1}\\n{v2}\\n{v3}' for v1, v2, v3 in zip(group_names,group_counts,group_percentages)]\n",
    "    labels = np.asarray(labels).reshape(2,2)\n",
    "\n",
    "    plt.figure(figsize=(10, 7))\n",
    "    ax= plt.subplot()\n",
    "    sns.heatmap(cm, annot=labels, fmt='', cmap='Blues')\n",
    "\n",
    "    # labels, title and ticks\n",
    "    ax.set_xlabel('Predicted labels');ax.set_ylabel('True labels'); \n",
    "    ax.set_title('Confusion Matrix'); \n",
    "    ax.xaxis.set_ticklabels(['No - Not Promoted', 'Yes - Promoted']); ax.yaxis.set_ticklabels(['No - Not Promoted','Yes - Promoted']);"
   ]
  },
  {
   "cell_type": "code",
   "execution_count": 138,
   "metadata": {},
   "outputs": [
    {
     "data": {
      "image/png": "[encoded data removed]",
      "text/plain": [
       "<Figure size 720x504 with 2 Axes>"
      ]
     },
     "metadata": {
      "needs_background": "light"
     },
     "output_type": "display_data"
    }
   ],
   "source": [
    "generate_confusion_matrix(rf_cm)"
   ]
  },
  {
   "cell_type": "code",
   "execution_count": 139,
   "metadata": {},
   "outputs": [],
   "source": [
    "cv = RepeatedStratifiedKFold(n_splits=10, random_state=123)\n",
    "# Number of trees in random forest\n",
    "n_estimators = [int(x) for x in np.linspace(start = 100, stop = 1000, num = 10)]\n",
    "# Number of features to consider at every split\n",
    "max_features = ['auto', 'sqrt']\n",
    "# Maximum number of levels in tree\n",
    "max_depth = [int(x) for x in np.linspace(5, 30, num = 6)]\n",
    "# max_depth.append(None)\n",
    "# Minimum number of samples required to split a node\n",
    "min_samples_split = [2, 5, 10, 15, 100]\n",
    "# Minimum number of samples required at each leaf node\n",
    "min_samples_leaf = [1, 2, 5, 10]"
   ]
  },
  {
   "cell_type": "code",
   "execution_count": 140,
   "metadata": {},
   "outputs": [
    {
     "name": "stdout",
     "output_type": "stream",
     "text": [
      "{'n_estimators': [100, 200, 300, 400, 500, 600, 700, 800, 900, 1000], 'max_features': ['auto', 'sqrt'], 'max_depth': [5, 10, 15, 20, 25, 30], 'min_samples_split': [2, 5, 10, 15, 100], 'min_samples_leaf': [1, 2, 5, 10]}\n"
     ]
    }
   ],
   "source": [
    "random_grid = {'n_estimators': n_estimators,\n",
    "               'max_features': max_features,\n",
    "               'max_depth': max_depth,\n",
    "               'min_samples_split': min_samples_split,\n",
    "               'min_samples_leaf': min_samples_leaf}\n",
    "\n",
    "print(random_grid)"
   ]
  },
  {
   "cell_type": "code",
   "execution_count": 141,
   "metadata": {},
   "outputs": [
    {
     "name": "stdout",
     "output_type": "stream",
     "text": [
      "Fitting 5 folds for each of 30 candidates, totalling 150 fits\n",
      "[CV] n_estimators=800, min_samples_split=15, min_samples_leaf=1, max_features=auto, max_depth=30 \n"
     ]
    },
    {
     "name": "stderr",
     "output_type": "stream",
     "text": [
      "[Parallel(n_jobs=1)]: Using backend SequentialBackend with 1 concurrent workers.\n"
     ]
    },
    {
     "name": "stdout",
     "output_type": "stream",
     "text": [
      "[CV]  n_estimators=800, min_samples_split=15, min_samples_leaf=1, max_features=auto, max_depth=30, total=  14.5s\n",
      "[CV] n_estimators=800, min_samples_split=15, min_samples_leaf=1, max_features=auto, max_depth=30 \n"
     ]
    },
    {
     "name": "stderr",
     "output_type": "stream",
     "text": [
      "[Parallel(n_jobs=1)]: Done   1 out of   1 | elapsed:   14.4s remaining:    0.0s\n"
     ]
    },
    {
     "name": "stdout",
     "output_type": "stream",
     "text": [
      "[CV]  n_estimators=800, min_samples_split=15, min_samples_leaf=1, max_features=auto, max_depth=30, total=  14.6s\n",
      "[CV] n_estimators=800, min_samples_split=15, min_samples_leaf=1, max_features=auto, max_depth=30 \n",
      "[CV]  n_estimators=800, min_samples_split=15, min_samples_leaf=1, max_features=auto, max_depth=30, total=  15.1s\n",
      "[CV] n_estimators=800, min_samples_split=15, min_samples_leaf=1, max_features=auto, max_depth=30 \n",
      "[CV]  n_estimators=800, min_samples_split=15, min_samples_leaf=1, max_features=auto, max_depth=30, total=  16.1s\n",
      "[CV] n_estimators=800, min_samples_split=15, min_samples_leaf=1, max_features=auto, max_depth=30 \n",
      "[CV]  n_estimators=800, min_samples_split=15, min_samples_leaf=1, max_features=auto, max_depth=30, total=  16.6s\n",
      "[CV] n_estimators=900, min_samples_split=10, min_samples_leaf=10, max_features=sqrt, max_depth=25 \n",
      "[CV]  n_estimators=900, min_samples_split=10, min_samples_leaf=10, max_features=sqrt, max_depth=25, total=  16.5s\n",
      "[CV] n_estimators=900, min_samples_split=10, min_samples_leaf=10, max_features=sqrt, max_depth=25 \n",
      "[CV]  n_estimators=900, min_samples_split=10, min_samples_leaf=10, max_features=sqrt, max_depth=25, total=  18.4s\n",
      "[CV] n_estimators=900, min_samples_split=10, min_samples_leaf=10, max_features=sqrt, max_depth=25 \n",
      "[CV]  n_estimators=900, min_samples_split=10, min_samples_leaf=10, max_features=sqrt, max_depth=25, total=  17.6s\n",
      "[CV] n_estimators=900, min_samples_split=10, min_samples_leaf=10, max_features=sqrt, max_depth=25 \n",
      "[CV]  n_estimators=900, min_samples_split=10, min_samples_leaf=10, max_features=sqrt, max_depth=25, total=  19.8s\n",
      "[CV] n_estimators=900, min_samples_split=10, min_samples_leaf=10, max_features=sqrt, max_depth=25 \n",
      "[CV]  n_estimators=900, min_samples_split=10, min_samples_leaf=10, max_features=sqrt, max_depth=25, total=  17.5s\n",
      "[CV] n_estimators=600, min_samples_split=2, min_samples_leaf=2, max_features=auto, max_depth=15 \n",
      "[CV]  n_estimators=600, min_samples_split=2, min_samples_leaf=2, max_features=auto, max_depth=15, total=  11.4s\n",
      "[CV] n_estimators=600, min_samples_split=2, min_samples_leaf=2, max_features=auto, max_depth=15 \n",
      "[CV]  n_estimators=600, min_samples_split=2, min_samples_leaf=2, max_features=auto, max_depth=15, total=  11.6s\n",
      "[CV] n_estimators=600, min_samples_split=2, min_samples_leaf=2, max_features=auto, max_depth=15 \n",
      "[CV]  n_estimators=600, min_samples_split=2, min_samples_leaf=2, max_features=auto, max_depth=15, total=  10.9s\n",
      "[CV] n_estimators=600, min_samples_split=2, min_samples_leaf=2, max_features=auto, max_depth=15 \n",
      "[CV]  n_estimators=600, min_samples_split=2, min_samples_leaf=2, max_features=auto, max_depth=15, total=  10.2s\n",
      "[CV] n_estimators=600, min_samples_split=2, min_samples_leaf=2, max_features=auto, max_depth=15 \n",
      "[CV]  n_estimators=600, min_samples_split=2, min_samples_leaf=2, max_features=auto, max_depth=15, total=  10.4s\n",
      "[CV] n_estimators=1000, min_samples_split=5, min_samples_leaf=5, max_features=auto, max_depth=25 \n",
      "[CV]  n_estimators=1000, min_samples_split=5, min_samples_leaf=5, max_features=auto, max_depth=25, total=  19.3s\n",
      "[CV] n_estimators=1000, min_samples_split=5, min_samples_leaf=5, max_features=auto, max_depth=25 \n",
      "[CV]  n_estimators=1000, min_samples_split=5, min_samples_leaf=5, max_features=auto, max_depth=25, total=  20.3s\n",
      "[CV] n_estimators=1000, min_samples_split=5, min_samples_leaf=5, max_features=auto, max_depth=25 \n",
      "[CV]  n_estimators=1000, min_samples_split=5, min_samples_leaf=5, max_features=auto, max_depth=25, total=  20.9s\n",
      "[CV] n_estimators=1000, min_samples_split=5, min_samples_leaf=5, max_features=auto, max_depth=25 \n",
      "[CV]  n_estimators=1000, min_samples_split=5, min_samples_leaf=5, max_features=auto, max_depth=25, total=  20.9s\n",
      "[CV] n_estimators=1000, min_samples_split=5, min_samples_leaf=5, max_features=auto, max_depth=25 \n",
      "[CV]  n_estimators=1000, min_samples_split=5, min_samples_leaf=5, max_features=auto, max_depth=25, total=  19.5s\n",
      "[CV] n_estimators=1000, min_samples_split=5, min_samples_leaf=1, max_features=auto, max_depth=30 \n",
      "[CV]  n_estimators=1000, min_samples_split=5, min_samples_leaf=1, max_features=auto, max_depth=30, total=  20.3s\n",
      "[CV] n_estimators=1000, min_samples_split=5, min_samples_leaf=1, max_features=auto, max_depth=30 \n",
      "[CV]  n_estimators=1000, min_samples_split=5, min_samples_leaf=1, max_features=auto, max_depth=30, total=  19.6s\n",
      "[CV] n_estimators=1000, min_samples_split=5, min_samples_leaf=1, max_features=auto, max_depth=30 \n",
      "[CV]  n_estimators=1000, min_samples_split=5, min_samples_leaf=1, max_features=auto, max_depth=30, total=  23.4s\n",
      "[CV] n_estimators=1000, min_samples_split=5, min_samples_leaf=1, max_features=auto, max_depth=30 \n",
      "[CV]  n_estimators=1000, min_samples_split=5, min_samples_leaf=1, max_features=auto, max_depth=30, total=  21.1s\n",
      "[CV] n_estimators=1000, min_samples_split=5, min_samples_leaf=1, max_features=auto, max_depth=30 \n",
      "[CV]  n_estimators=1000, min_samples_split=5, min_samples_leaf=1, max_features=auto, max_depth=30, total=  21.0s\n",
      "[CV] n_estimators=500, min_samples_split=15, min_samples_leaf=5, max_features=auto, max_depth=5 \n",
      "[CV]  n_estimators=500, min_samples_split=15, min_samples_leaf=5, max_features=auto, max_depth=5, total=   5.3s\n",
      "[CV] n_estimators=500, min_samples_split=15, min_samples_leaf=5, max_features=auto, max_depth=5 \n",
      "[CV]  n_estimators=500, min_samples_split=15, min_samples_leaf=5, max_features=auto, max_depth=5, total=   5.0s\n",
      "[CV] n_estimators=500, min_samples_split=15, min_samples_leaf=5, max_features=auto, max_depth=5 \n",
      "[CV]  n_estimators=500, min_samples_split=15, min_samples_leaf=5, max_features=auto, max_depth=5, total=   5.1s\n",
      "[CV] n_estimators=500, min_samples_split=15, min_samples_leaf=5, max_features=auto, max_depth=5 \n",
      "[CV]  n_estimators=500, min_samples_split=15, min_samples_leaf=5, max_features=auto, max_depth=5, total=   4.9s\n",
      "[CV] n_estimators=500, min_samples_split=15, min_samples_leaf=5, max_features=auto, max_depth=5 \n",
      "[CV]  n_estimators=500, min_samples_split=15, min_samples_leaf=5, max_features=auto, max_depth=5, total=   5.2s\n",
      "[CV] n_estimators=600, min_samples_split=10, min_samples_leaf=10, max_features=auto, max_depth=20 \n",
      "[CV]  n_estimators=600, min_samples_split=10, min_samples_leaf=10, max_features=auto, max_depth=20, total=  11.4s\n",
      "[CV] n_estimators=600, min_samples_split=10, min_samples_leaf=10, max_features=auto, max_depth=20 \n",
      "[CV]  n_estimators=600, min_samples_split=10, min_samples_leaf=10, max_features=auto, max_depth=20, total=  11.3s\n",
      "[CV] n_estimators=600, min_samples_split=10, min_samples_leaf=10, max_features=auto, max_depth=20 \n",
      "[CV]  n_estimators=600, min_samples_split=10, min_samples_leaf=10, max_features=auto, max_depth=20, total=  11.0s\n",
      "[CV] n_estimators=600, min_samples_split=10, min_samples_leaf=10, max_features=auto, max_depth=20 \n",
      "[CV]  n_estimators=600, min_samples_split=10, min_samples_leaf=10, max_features=auto, max_depth=20, total=  11.2s\n",
      "[CV] n_estimators=600, min_samples_split=10, min_samples_leaf=10, max_features=auto, max_depth=20 \n",
      "[CV]  n_estimators=600, min_samples_split=10, min_samples_leaf=10, max_features=auto, max_depth=20, total=  10.6s\n",
      "[CV] n_estimators=200, min_samples_split=5, min_samples_leaf=5, max_features=auto, max_depth=25 \n",
      "[CV]  n_estimators=200, min_samples_split=5, min_samples_leaf=5, max_features=auto, max_depth=25, total=   3.7s\n",
      "[CV] n_estimators=200, min_samples_split=5, min_samples_leaf=5, max_features=auto, max_depth=25 \n",
      "[CV]  n_estimators=200, min_samples_split=5, min_samples_leaf=5, max_features=auto, max_depth=25, total=   3.7s\n",
      "[CV] n_estimators=200, min_samples_split=5, min_samples_leaf=5, max_features=auto, max_depth=25 \n",
      "[CV]  n_estimators=200, min_samples_split=5, min_samples_leaf=5, max_features=auto, max_depth=25, total=   4.0s\n",
      "[CV] n_estimators=200, min_samples_split=5, min_samples_leaf=5, max_features=auto, max_depth=25 \n",
      "[CV]  n_estimators=200, min_samples_split=5, min_samples_leaf=5, max_features=auto, max_depth=25, total=   4.0s\n",
      "[CV] n_estimators=200, min_samples_split=5, min_samples_leaf=5, max_features=auto, max_depth=25 \n",
      "[CV]  n_estimators=200, min_samples_split=5, min_samples_leaf=5, max_features=auto, max_depth=25, total=   3.7s\n",
      "[CV] n_estimators=1000, min_samples_split=15, min_samples_leaf=2, max_features=auto, max_depth=20 \n"
     ]
    },
    {
     "name": "stdout",
     "output_type": "stream",
     "text": [
      "[CV]  n_estimators=1000, min_samples_split=15, min_samples_leaf=2, max_features=auto, max_depth=20, total=  19.1s\n",
      "[CV] n_estimators=1000, min_samples_split=15, min_samples_leaf=2, max_features=auto, max_depth=20 \n",
      "[CV]  n_estimators=1000, min_samples_split=15, min_samples_leaf=2, max_features=auto, max_depth=20, total=  18.9s\n",
      "[CV] n_estimators=1000, min_samples_split=15, min_samples_leaf=2, max_features=auto, max_depth=20 \n",
      "[CV]  n_estimators=1000, min_samples_split=15, min_samples_leaf=2, max_features=auto, max_depth=20, total=  19.3s\n",
      "[CV] n_estimators=1000, min_samples_split=15, min_samples_leaf=2, max_features=auto, max_depth=20 \n",
      "[CV]  n_estimators=1000, min_samples_split=15, min_samples_leaf=2, max_features=auto, max_depth=20, total=  20.3s\n",
      "[CV] n_estimators=1000, min_samples_split=15, min_samples_leaf=2, max_features=auto, max_depth=20 \n",
      "[CV]  n_estimators=1000, min_samples_split=15, min_samples_leaf=2, max_features=auto, max_depth=20, total=  19.7s\n",
      "[CV] n_estimators=900, min_samples_split=5, min_samples_leaf=2, max_features=sqrt, max_depth=15 \n",
      "[CV]  n_estimators=900, min_samples_split=5, min_samples_leaf=2, max_features=sqrt, max_depth=15, total=  16.2s\n",
      "[CV] n_estimators=900, min_samples_split=5, min_samples_leaf=2, max_features=sqrt, max_depth=15 \n",
      "[CV]  n_estimators=900, min_samples_split=5, min_samples_leaf=2, max_features=sqrt, max_depth=15, total=  15.6s\n",
      "[CV] n_estimators=900, min_samples_split=5, min_samples_leaf=2, max_features=sqrt, max_depth=15 \n",
      "[CV]  n_estimators=900, min_samples_split=5, min_samples_leaf=2, max_features=sqrt, max_depth=15, total=  15.8s\n",
      "[CV] n_estimators=900, min_samples_split=5, min_samples_leaf=2, max_features=sqrt, max_depth=15 \n",
      "[CV]  n_estimators=900, min_samples_split=5, min_samples_leaf=2, max_features=sqrt, max_depth=15, total=  16.6s\n",
      "[CV] n_estimators=900, min_samples_split=5, min_samples_leaf=2, max_features=sqrt, max_depth=15 \n",
      "[CV]  n_estimators=900, min_samples_split=5, min_samples_leaf=2, max_features=sqrt, max_depth=15, total=  17.0s\n",
      "[CV] n_estimators=1000, min_samples_split=2, min_samples_leaf=5, max_features=auto, max_depth=25 \n",
      "[CV]  n_estimators=1000, min_samples_split=2, min_samples_leaf=5, max_features=auto, max_depth=25, total=  20.0s\n",
      "[CV] n_estimators=1000, min_samples_split=2, min_samples_leaf=5, max_features=auto, max_depth=25 \n",
      "[CV]  n_estimators=1000, min_samples_split=2, min_samples_leaf=5, max_features=auto, max_depth=25, total=  22.1s\n",
      "[CV] n_estimators=1000, min_samples_split=2, min_samples_leaf=5, max_features=auto, max_depth=25 \n",
      "[CV]  n_estimators=1000, min_samples_split=2, min_samples_leaf=5, max_features=auto, max_depth=25, total=  20.8s\n",
      "[CV] n_estimators=1000, min_samples_split=2, min_samples_leaf=5, max_features=auto, max_depth=25 \n",
      "[CV]  n_estimators=1000, min_samples_split=2, min_samples_leaf=5, max_features=auto, max_depth=25, total=  19.8s\n",
      "[CV] n_estimators=1000, min_samples_split=2, min_samples_leaf=5, max_features=auto, max_depth=25 \n",
      "[CV]  n_estimators=1000, min_samples_split=2, min_samples_leaf=5, max_features=auto, max_depth=25, total=  21.4s\n",
      "[CV] n_estimators=200, min_samples_split=5, min_samples_leaf=5, max_features=auto, max_depth=5 \n",
      "[CV]  n_estimators=200, min_samples_split=5, min_samples_leaf=5, max_features=auto, max_depth=5, total=   2.3s\n",
      "[CV] n_estimators=200, min_samples_split=5, min_samples_leaf=5, max_features=auto, max_depth=5 \n",
      "[CV]  n_estimators=200, min_samples_split=5, min_samples_leaf=5, max_features=auto, max_depth=5, total=   2.3s\n",
      "[CV] n_estimators=200, min_samples_split=5, min_samples_leaf=5, max_features=auto, max_depth=5 \n",
      "[CV]  n_estimators=200, min_samples_split=5, min_samples_leaf=5, max_features=auto, max_depth=5, total=   2.2s\n",
      "[CV] n_estimators=200, min_samples_split=5, min_samples_leaf=5, max_features=auto, max_depth=5 \n",
      "[CV]  n_estimators=200, min_samples_split=5, min_samples_leaf=5, max_features=auto, max_depth=5, total=   2.2s\n",
      "[CV] n_estimators=200, min_samples_split=5, min_samples_leaf=5, max_features=auto, max_depth=5 \n",
      "[CV]  n_estimators=200, min_samples_split=5, min_samples_leaf=5, max_features=auto, max_depth=5, total=   2.3s\n",
      "[CV] n_estimators=900, min_samples_split=100, min_samples_leaf=10, max_features=sqrt, max_depth=15 \n",
      "[CV]  n_estimators=900, min_samples_split=100, min_samples_leaf=10, max_features=sqrt, max_depth=15, total=  15.8s\n",
      "[CV] n_estimators=900, min_samples_split=100, min_samples_leaf=10, max_features=sqrt, max_depth=15 \n",
      "[CV]  n_estimators=900, min_samples_split=100, min_samples_leaf=10, max_features=sqrt, max_depth=15, total=  15.1s\n",
      "[CV] n_estimators=900, min_samples_split=100, min_samples_leaf=10, max_features=sqrt, max_depth=15 \n",
      "[CV]  n_estimators=900, min_samples_split=100, min_samples_leaf=10, max_features=sqrt, max_depth=15, total=  14.7s\n",
      "[CV] n_estimators=900, min_samples_split=100, min_samples_leaf=10, max_features=sqrt, max_depth=15 \n",
      "[CV]  n_estimators=900, min_samples_split=100, min_samples_leaf=10, max_features=sqrt, max_depth=15, total=  16.1s\n",
      "[CV] n_estimators=900, min_samples_split=100, min_samples_leaf=10, max_features=sqrt, max_depth=15 \n",
      "[CV]  n_estimators=900, min_samples_split=100, min_samples_leaf=10, max_features=sqrt, max_depth=15, total=  15.4s\n",
      "[CV] n_estimators=100, min_samples_split=5, min_samples_leaf=5, max_features=sqrt, max_depth=20 \n",
      "[CV]  n_estimators=100, min_samples_split=5, min_samples_leaf=5, max_features=sqrt, max_depth=20, total=   1.9s\n",
      "[CV] n_estimators=100, min_samples_split=5, min_samples_leaf=5, max_features=sqrt, max_depth=20 \n",
      "[CV]  n_estimators=100, min_samples_split=5, min_samples_leaf=5, max_features=sqrt, max_depth=20, total=   2.0s\n",
      "[CV] n_estimators=100, min_samples_split=5, min_samples_leaf=5, max_features=sqrt, max_depth=20 \n",
      "[CV]  n_estimators=100, min_samples_split=5, min_samples_leaf=5, max_features=sqrt, max_depth=20, total=   1.9s\n",
      "[CV] n_estimators=100, min_samples_split=5, min_samples_leaf=5, max_features=sqrt, max_depth=20 \n",
      "[CV]  n_estimators=100, min_samples_split=5, min_samples_leaf=5, max_features=sqrt, max_depth=20, total=   1.9s\n",
      "[CV] n_estimators=100, min_samples_split=5, min_samples_leaf=5, max_features=sqrt, max_depth=20 \n",
      "[CV]  n_estimators=100, min_samples_split=5, min_samples_leaf=5, max_features=sqrt, max_depth=20, total=   1.9s\n",
      "[CV] n_estimators=800, min_samples_split=2, min_samples_leaf=5, max_features=sqrt, max_depth=25 \n",
      "[CV]  n_estimators=800, min_samples_split=2, min_samples_leaf=5, max_features=sqrt, max_depth=25, total=  14.6s\n",
      "[CV] n_estimators=800, min_samples_split=2, min_samples_leaf=5, max_features=sqrt, max_depth=25 \n",
      "[CV]  n_estimators=800, min_samples_split=2, min_samples_leaf=5, max_features=sqrt, max_depth=25, total=  15.6s\n",
      "[CV] n_estimators=800, min_samples_split=2, min_samples_leaf=5, max_features=sqrt, max_depth=25 \n",
      "[CV]  n_estimators=800, min_samples_split=2, min_samples_leaf=5, max_features=sqrt, max_depth=25, total=  14.8s\n",
      "[CV] n_estimators=800, min_samples_split=2, min_samples_leaf=5, max_features=sqrt, max_depth=25 \n",
      "[CV]  n_estimators=800, min_samples_split=2, min_samples_leaf=5, max_features=sqrt, max_depth=25, total=  15.4s\n",
      "[CV] n_estimators=800, min_samples_split=2, min_samples_leaf=5, max_features=sqrt, max_depth=25 \n",
      "[CV]  n_estimators=800, min_samples_split=2, min_samples_leaf=5, max_features=sqrt, max_depth=25, total=  14.9s\n",
      "[CV] n_estimators=1000, min_samples_split=15, min_samples_leaf=10, max_features=auto, max_depth=25 \n",
      "[CV]  n_estimators=1000, min_samples_split=15, min_samples_leaf=10, max_features=auto, max_depth=25, total=  19.4s\n",
      "[CV] n_estimators=1000, min_samples_split=15, min_samples_leaf=10, max_features=auto, max_depth=25 \n",
      "[CV]  n_estimators=1000, min_samples_split=15, min_samples_leaf=10, max_features=auto, max_depth=25, total=  18.9s\n",
      "[CV] n_estimators=1000, min_samples_split=15, min_samples_leaf=10, max_features=auto, max_depth=25 \n",
      "[CV]  n_estimators=1000, min_samples_split=15, min_samples_leaf=10, max_features=auto, max_depth=25, total=  19.1s\n",
      "[CV] n_estimators=1000, min_samples_split=15, min_samples_leaf=10, max_features=auto, max_depth=25 \n",
      "[CV]  n_estimators=1000, min_samples_split=15, min_samples_leaf=10, max_features=auto, max_depth=25, total=  22.3s\n",
      "[CV] n_estimators=1000, min_samples_split=15, min_samples_leaf=10, max_features=auto, max_depth=25 \n"
     ]
    },
    {
     "name": "stdout",
     "output_type": "stream",
     "text": [
      "[CV]  n_estimators=1000, min_samples_split=15, min_samples_leaf=10, max_features=auto, max_depth=25, total=  22.8s\n",
      "[CV] n_estimators=1000, min_samples_split=10, min_samples_leaf=10, max_features=auto, max_depth=5 \n",
      "[CV]  n_estimators=1000, min_samples_split=10, min_samples_leaf=10, max_features=auto, max_depth=5, total=  10.3s\n",
      "[CV] n_estimators=1000, min_samples_split=10, min_samples_leaf=10, max_features=auto, max_depth=5 \n",
      "[CV]  n_estimators=1000, min_samples_split=10, min_samples_leaf=10, max_features=auto, max_depth=5, total=  10.3s\n",
      "[CV] n_estimators=1000, min_samples_split=10, min_samples_leaf=10, max_features=auto, max_depth=5 \n",
      "[CV]  n_estimators=1000, min_samples_split=10, min_samples_leaf=10, max_features=auto, max_depth=5, total=  10.9s\n",
      "[CV] n_estimators=1000, min_samples_split=10, min_samples_leaf=10, max_features=auto, max_depth=5 \n",
      "[CV]  n_estimators=1000, min_samples_split=10, min_samples_leaf=10, max_features=auto, max_depth=5, total=  11.2s\n",
      "[CV] n_estimators=1000, min_samples_split=10, min_samples_leaf=10, max_features=auto, max_depth=5 \n",
      "[CV]  n_estimators=1000, min_samples_split=10, min_samples_leaf=10, max_features=auto, max_depth=5, total=  11.3s\n",
      "[CV] n_estimators=600, min_samples_split=10, min_samples_leaf=1, max_features=sqrt, max_depth=25 \n",
      "[CV]  n_estimators=600, min_samples_split=10, min_samples_leaf=1, max_features=sqrt, max_depth=25, total=  14.3s\n",
      "[CV] n_estimators=600, min_samples_split=10, min_samples_leaf=1, max_features=sqrt, max_depth=25 \n",
      "[CV]  n_estimators=600, min_samples_split=10, min_samples_leaf=1, max_features=sqrt, max_depth=25, total=  12.7s\n",
      "[CV] n_estimators=600, min_samples_split=10, min_samples_leaf=1, max_features=sqrt, max_depth=25 \n",
      "[CV]  n_estimators=600, min_samples_split=10, min_samples_leaf=1, max_features=sqrt, max_depth=25, total=  12.1s\n",
      "[CV] n_estimators=600, min_samples_split=10, min_samples_leaf=1, max_features=sqrt, max_depth=25 \n",
      "[CV]  n_estimators=600, min_samples_split=10, min_samples_leaf=1, max_features=sqrt, max_depth=25, total=  13.3s\n",
      "[CV] n_estimators=600, min_samples_split=10, min_samples_leaf=1, max_features=sqrt, max_depth=25 \n",
      "[CV]  n_estimators=600, min_samples_split=10, min_samples_leaf=1, max_features=sqrt, max_depth=25, total=  13.7s\n",
      "[CV] n_estimators=200, min_samples_split=10, min_samples_leaf=5, max_features=sqrt, max_depth=20 \n",
      "[CV]  n_estimators=200, min_samples_split=10, min_samples_leaf=5, max_features=sqrt, max_depth=20, total=   4.3s\n",
      "[CV] n_estimators=200, min_samples_split=10, min_samples_leaf=5, max_features=sqrt, max_depth=20 \n",
      "[CV]  n_estimators=200, min_samples_split=10, min_samples_leaf=5, max_features=sqrt, max_depth=20, total=   4.1s\n",
      "[CV] n_estimators=200, min_samples_split=10, min_samples_leaf=5, max_features=sqrt, max_depth=20 \n",
      "[CV]  n_estimators=200, min_samples_split=10, min_samples_leaf=5, max_features=sqrt, max_depth=20, total=   4.4s\n",
      "[CV] n_estimators=200, min_samples_split=10, min_samples_leaf=5, max_features=sqrt, max_depth=20 \n",
      "[CV]  n_estimators=200, min_samples_split=10, min_samples_leaf=5, max_features=sqrt, max_depth=20, total=   4.4s\n",
      "[CV] n_estimators=200, min_samples_split=10, min_samples_leaf=5, max_features=sqrt, max_depth=20 \n",
      "[CV]  n_estimators=200, min_samples_split=10, min_samples_leaf=5, max_features=sqrt, max_depth=20, total=   4.2s\n",
      "[CV] n_estimators=600, min_samples_split=5, min_samples_leaf=10, max_features=sqrt, max_depth=20 \n",
      "[CV]  n_estimators=600, min_samples_split=5, min_samples_leaf=10, max_features=sqrt, max_depth=20, total=  12.3s\n",
      "[CV] n_estimators=600, min_samples_split=5, min_samples_leaf=10, max_features=sqrt, max_depth=20 \n",
      "[CV]  n_estimators=600, min_samples_split=5, min_samples_leaf=10, max_features=sqrt, max_depth=20, total=  12.4s\n",
      "[CV] n_estimators=600, min_samples_split=5, min_samples_leaf=10, max_features=sqrt, max_depth=20 \n",
      "[CV]  n_estimators=600, min_samples_split=5, min_samples_leaf=10, max_features=sqrt, max_depth=20, total=  12.6s\n",
      "[CV] n_estimators=600, min_samples_split=5, min_samples_leaf=10, max_features=sqrt, max_depth=20 \n",
      "[CV]  n_estimators=600, min_samples_split=5, min_samples_leaf=10, max_features=sqrt, max_depth=20, total=  12.8s\n",
      "[CV] n_estimators=600, min_samples_split=5, min_samples_leaf=10, max_features=sqrt, max_depth=20 \n",
      "[CV]  n_estimators=600, min_samples_split=5, min_samples_leaf=10, max_features=sqrt, max_depth=20, total=  13.7s\n",
      "[CV] n_estimators=100, min_samples_split=5, min_samples_leaf=1, max_features=sqrt, max_depth=15 \n",
      "[CV]  n_estimators=100, min_samples_split=5, min_samples_leaf=1, max_features=sqrt, max_depth=15, total=   2.2s\n",
      "[CV] n_estimators=100, min_samples_split=5, min_samples_leaf=1, max_features=sqrt, max_depth=15 \n",
      "[CV]  n_estimators=100, min_samples_split=5, min_samples_leaf=1, max_features=sqrt, max_depth=15, total=   2.2s\n",
      "[CV] n_estimators=100, min_samples_split=5, min_samples_leaf=1, max_features=sqrt, max_depth=15 \n",
      "[CV]  n_estimators=100, min_samples_split=5, min_samples_leaf=1, max_features=sqrt, max_depth=15, total=   2.3s\n",
      "[CV] n_estimators=100, min_samples_split=5, min_samples_leaf=1, max_features=sqrt, max_depth=15 \n",
      "[CV]  n_estimators=100, min_samples_split=5, min_samples_leaf=1, max_features=sqrt, max_depth=15, total=   2.3s\n",
      "[CV] n_estimators=100, min_samples_split=5, min_samples_leaf=1, max_features=sqrt, max_depth=15 \n",
      "[CV]  n_estimators=100, min_samples_split=5, min_samples_leaf=1, max_features=sqrt, max_depth=15, total=   2.2s\n",
      "[CV] n_estimators=900, min_samples_split=2, min_samples_leaf=10, max_features=auto, max_depth=30 \n",
      "[CV]  n_estimators=900, min_samples_split=2, min_samples_leaf=10, max_features=auto, max_depth=30, total=  20.2s\n",
      "[CV] n_estimators=900, min_samples_split=2, min_samples_leaf=10, max_features=auto, max_depth=30 \n",
      "[CV]  n_estimators=900, min_samples_split=2, min_samples_leaf=10, max_features=auto, max_depth=30, total=  22.3s\n",
      "[CV] n_estimators=900, min_samples_split=2, min_samples_leaf=10, max_features=auto, max_depth=30 \n",
      "[CV]  n_estimators=900, min_samples_split=2, min_samples_leaf=10, max_features=auto, max_depth=30, total=  20.9s\n",
      "[CV] n_estimators=900, min_samples_split=2, min_samples_leaf=10, max_features=auto, max_depth=30 \n",
      "[CV]  n_estimators=900, min_samples_split=2, min_samples_leaf=10, max_features=auto, max_depth=30, total=  19.1s\n",
      "[CV] n_estimators=900, min_samples_split=2, min_samples_leaf=10, max_features=auto, max_depth=30 \n",
      "[CV]  n_estimators=900, min_samples_split=2, min_samples_leaf=10, max_features=auto, max_depth=30, total=  21.6s\n",
      "[CV] n_estimators=600, min_samples_split=10, min_samples_leaf=1, max_features=sqrt, max_depth=15 \n",
      "[CV]  n_estimators=600, min_samples_split=10, min_samples_leaf=1, max_features=sqrt, max_depth=15, total=  13.2s\n",
      "[CV] n_estimators=600, min_samples_split=10, min_samples_leaf=1, max_features=sqrt, max_depth=15 \n",
      "[CV]  n_estimators=600, min_samples_split=10, min_samples_leaf=1, max_features=sqrt, max_depth=15, total=  13.4s\n",
      "[CV] n_estimators=600, min_samples_split=10, min_samples_leaf=1, max_features=sqrt, max_depth=15 \n",
      "[CV]  n_estimators=600, min_samples_split=10, min_samples_leaf=1, max_features=sqrt, max_depth=15, total=  13.6s\n",
      "[CV] n_estimators=600, min_samples_split=10, min_samples_leaf=1, max_features=sqrt, max_depth=15 \n",
      "[CV]  n_estimators=600, min_samples_split=10, min_samples_leaf=1, max_features=sqrt, max_depth=15, total=  11.6s\n",
      "[CV] n_estimators=600, min_samples_split=10, min_samples_leaf=1, max_features=sqrt, max_depth=15 \n",
      "[CV]  n_estimators=600, min_samples_split=10, min_samples_leaf=1, max_features=sqrt, max_depth=15, total=  11.4s\n",
      "[CV] n_estimators=300, min_samples_split=2, min_samples_leaf=10, max_features=auto, max_depth=30 \n",
      "[CV]  n_estimators=300, min_samples_split=2, min_samples_leaf=10, max_features=auto, max_depth=30, total=   6.2s\n",
      "[CV] n_estimators=300, min_samples_split=2, min_samples_leaf=10, max_features=auto, max_depth=30 \n",
      "[CV]  n_estimators=300, min_samples_split=2, min_samples_leaf=10, max_features=auto, max_depth=30, total=   6.2s\n",
      "[CV] n_estimators=300, min_samples_split=2, min_samples_leaf=10, max_features=auto, max_depth=30 \n",
      "[CV]  n_estimators=300, min_samples_split=2, min_samples_leaf=10, max_features=auto, max_depth=30, total=   6.3s\n",
      "[CV] n_estimators=300, min_samples_split=2, min_samples_leaf=10, max_features=auto, max_depth=30 \n"
     ]
    },
    {
     "name": "stdout",
     "output_type": "stream",
     "text": [
      "[CV]  n_estimators=300, min_samples_split=2, min_samples_leaf=10, max_features=auto, max_depth=30, total=   6.1s\n",
      "[CV] n_estimators=300, min_samples_split=2, min_samples_leaf=10, max_features=auto, max_depth=30 \n",
      "[CV]  n_estimators=300, min_samples_split=2, min_samples_leaf=10, max_features=auto, max_depth=30, total=   6.2s\n",
      "[CV] n_estimators=300, min_samples_split=2, min_samples_leaf=10, max_features=auto, max_depth=20 \n",
      "[CV]  n_estimators=300, min_samples_split=2, min_samples_leaf=10, max_features=auto, max_depth=20, total=   6.2s\n",
      "[CV] n_estimators=300, min_samples_split=2, min_samples_leaf=10, max_features=auto, max_depth=20 \n",
      "[CV]  n_estimators=300, min_samples_split=2, min_samples_leaf=10, max_features=auto, max_depth=20, total=   6.2s\n",
      "[CV] n_estimators=300, min_samples_split=2, min_samples_leaf=10, max_features=auto, max_depth=20 \n",
      "[CV]  n_estimators=300, min_samples_split=2, min_samples_leaf=10, max_features=auto, max_depth=20, total=   6.4s\n",
      "[CV] n_estimators=300, min_samples_split=2, min_samples_leaf=10, max_features=auto, max_depth=20 \n",
      "[CV]  n_estimators=300, min_samples_split=2, min_samples_leaf=10, max_features=auto, max_depth=20, total=   6.5s\n",
      "[CV] n_estimators=300, min_samples_split=2, min_samples_leaf=10, max_features=auto, max_depth=20 \n",
      "[CV]  n_estimators=300, min_samples_split=2, min_samples_leaf=10, max_features=auto, max_depth=20, total=   6.6s\n",
      "[CV] n_estimators=800, min_samples_split=10, min_samples_leaf=5, max_features=auto, max_depth=10 \n",
      "[CV]  n_estimators=800, min_samples_split=10, min_samples_leaf=5, max_features=auto, max_depth=10, total=  14.1s\n",
      "[CV] n_estimators=800, min_samples_split=10, min_samples_leaf=5, max_features=auto, max_depth=10 \n",
      "[CV]  n_estimators=800, min_samples_split=10, min_samples_leaf=5, max_features=auto, max_depth=10, total=  16.3s\n",
      "[CV] n_estimators=800, min_samples_split=10, min_samples_leaf=5, max_features=auto, max_depth=10 \n",
      "[CV]  n_estimators=800, min_samples_split=10, min_samples_leaf=5, max_features=auto, max_depth=10, total=  15.9s\n",
      "[CV] n_estimators=800, min_samples_split=10, min_samples_leaf=5, max_features=auto, max_depth=10 \n",
      "[CV]  n_estimators=800, min_samples_split=10, min_samples_leaf=5, max_features=auto, max_depth=10, total=  15.0s\n",
      "[CV] n_estimators=800, min_samples_split=10, min_samples_leaf=5, max_features=auto, max_depth=10 \n",
      "[CV]  n_estimators=800, min_samples_split=10, min_samples_leaf=5, max_features=auto, max_depth=10, total=  14.5s\n",
      "[CV] n_estimators=700, min_samples_split=5, min_samples_leaf=5, max_features=auto, max_depth=20 \n",
      "[CV]  n_estimators=700, min_samples_split=5, min_samples_leaf=5, max_features=auto, max_depth=20, total=  17.1s\n",
      "[CV] n_estimators=700, min_samples_split=5, min_samples_leaf=5, max_features=auto, max_depth=20 \n",
      "[CV]  n_estimators=700, min_samples_split=5, min_samples_leaf=5, max_features=auto, max_depth=20, total=  13.6s\n",
      "[CV] n_estimators=700, min_samples_split=5, min_samples_leaf=5, max_features=auto, max_depth=20 \n",
      "[CV]  n_estimators=700, min_samples_split=5, min_samples_leaf=5, max_features=auto, max_depth=20, total=  13.8s\n",
      "[CV] n_estimators=700, min_samples_split=5, min_samples_leaf=5, max_features=auto, max_depth=20 \n",
      "[CV]  n_estimators=700, min_samples_split=5, min_samples_leaf=5, max_features=auto, max_depth=20, total=  14.3s\n",
      "[CV] n_estimators=700, min_samples_split=5, min_samples_leaf=5, max_features=auto, max_depth=20 \n",
      "[CV]  n_estimators=700, min_samples_split=5, min_samples_leaf=5, max_features=auto, max_depth=20, total=  15.1s\n",
      "[CV] n_estimators=1000, min_samples_split=15, min_samples_leaf=5, max_features=auto, max_depth=25 \n",
      "[CV]  n_estimators=1000, min_samples_split=15, min_samples_leaf=5, max_features=auto, max_depth=25, total=  22.1s\n",
      "[CV] n_estimators=1000, min_samples_split=15, min_samples_leaf=5, max_features=auto, max_depth=25 \n",
      "[CV]  n_estimators=1000, min_samples_split=15, min_samples_leaf=5, max_features=auto, max_depth=25, total=  22.1s\n",
      "[CV] n_estimators=1000, min_samples_split=15, min_samples_leaf=5, max_features=auto, max_depth=25 \n",
      "[CV]  n_estimators=1000, min_samples_split=15, min_samples_leaf=5, max_features=auto, max_depth=25, total=  21.8s\n",
      "[CV] n_estimators=1000, min_samples_split=15, min_samples_leaf=5, max_features=auto, max_depth=25 \n",
      "[CV]  n_estimators=1000, min_samples_split=15, min_samples_leaf=5, max_features=auto, max_depth=25, total=  23.5s\n",
      "[CV] n_estimators=1000, min_samples_split=15, min_samples_leaf=5, max_features=auto, max_depth=25 \n",
      "[CV]  n_estimators=1000, min_samples_split=15, min_samples_leaf=5, max_features=auto, max_depth=25, total=  23.4s\n",
      "[CV] n_estimators=200, min_samples_split=2, min_samples_leaf=5, max_features=auto, max_depth=20 \n",
      "[CV]  n_estimators=200, min_samples_split=2, min_samples_leaf=5, max_features=auto, max_depth=20, total=   4.8s\n",
      "[CV] n_estimators=200, min_samples_split=2, min_samples_leaf=5, max_features=auto, max_depth=20 \n",
      "[CV]  n_estimators=200, min_samples_split=2, min_samples_leaf=5, max_features=auto, max_depth=20, total=   4.5s\n",
      "[CV] n_estimators=200, min_samples_split=2, min_samples_leaf=5, max_features=auto, max_depth=20 \n",
      "[CV]  n_estimators=200, min_samples_split=2, min_samples_leaf=5, max_features=auto, max_depth=20, total=   4.6s\n",
      "[CV] n_estimators=200, min_samples_split=2, min_samples_leaf=5, max_features=auto, max_depth=20 \n",
      "[CV]  n_estimators=200, min_samples_split=2, min_samples_leaf=5, max_features=auto, max_depth=20, total=   4.8s\n",
      "[CV] n_estimators=200, min_samples_split=2, min_samples_leaf=5, max_features=auto, max_depth=20 \n",
      "[CV]  n_estimators=200, min_samples_split=2, min_samples_leaf=5, max_features=auto, max_depth=20, total=   4.4s\n",
      "[CV] n_estimators=500, min_samples_split=2, min_samples_leaf=2, max_features=auto, max_depth=30 \n",
      "[CV]  n_estimators=500, min_samples_split=2, min_samples_leaf=2, max_features=auto, max_depth=30, total=  12.3s\n",
      "[CV] n_estimators=500, min_samples_split=2, min_samples_leaf=2, max_features=auto, max_depth=30 \n",
      "[CV]  n_estimators=500, min_samples_split=2, min_samples_leaf=2, max_features=auto, max_depth=30, total=  12.6s\n",
      "[CV] n_estimators=500, min_samples_split=2, min_samples_leaf=2, max_features=auto, max_depth=30 \n",
      "[CV]  n_estimators=500, min_samples_split=2, min_samples_leaf=2, max_features=auto, max_depth=30, total=  12.0s\n",
      "[CV] n_estimators=500, min_samples_split=2, min_samples_leaf=2, max_features=auto, max_depth=30 \n",
      "[CV]  n_estimators=500, min_samples_split=2, min_samples_leaf=2, max_features=auto, max_depth=30, total=  13.5s\n",
      "[CV] n_estimators=500, min_samples_split=2, min_samples_leaf=2, max_features=auto, max_depth=30 \n",
      "[CV]  n_estimators=500, min_samples_split=2, min_samples_leaf=2, max_features=auto, max_depth=30, total=  12.7s\n"
     ]
    },
    {
     "name": "stderr",
     "output_type": "stream",
     "text": [
      "[Parallel(n_jobs=1)]: Done 150 out of 150 | elapsed: 31.4min finished\n"
     ]
    },
    {
     "name": "stdout",
     "output_type": "stream",
     "text": [
      "RandomForestClassifier(max_depth=25, max_features='sqrt', min_samples_split=10,\n",
      "                       n_estimators=600)\n",
      "0.9371562622181676\n"
     ]
    }
   ],
   "source": [
    "rf_rscv_model = RandomizedSearchCV(estimator = rf_model, param_distributions=random_grid, n_iter = 30, cv = 5, \n",
    "                               verbose=2, random_state=42)\n",
    "\n",
    "rf_rscv_model.fit(X_train,y_train)\n",
    "print(rf_rscv_model.best_estimator_)\n",
    "print(rf_rscv_model.best_score_)"
   ]
  },
  {
   "cell_type": "code",
   "execution_count": 142,
   "metadata": {},
   "outputs": [],
   "source": [
    "rf_rscv_model_1 = RandomForestClassifier(max_depth=25, max_features='sqrt', min_samples_split=10,\n",
    "                       n_estimators=600)"
   ]
  },
  {
   "cell_type": "code",
   "execution_count": 143,
   "metadata": {},
   "outputs": [],
   "source": [
    "rf_rscv_model_1.fit(X_train, y_train) \n",
    "rf_rscv_model_1_preds = rf_rscv_model_1.predict(X_test)"
   ]
  },
  {
   "cell_type": "code",
   "execution_count": 144,
   "metadata": {},
   "outputs": [
    {
     "name": "stdout",
     "output_type": "stream",
     "text": [
      "0.4744842562432139\n"
     ]
    }
   ],
   "source": [
    "print(f1_score(y_test, rf_rscv_model_1_preds))"
   ]
  },
  {
   "cell_type": "code",
   "execution_count": 145,
   "metadata": {},
   "outputs": [
    {
     "data": {
      "image/png": "[encoded data removed]",
      "text/plain": [
       "<Figure size 720x504 with 2 Axes>"
      ]
     },
     "metadata": {
      "needs_background": "light"
     },
     "output_type": "display_data"
    }
   ],
   "source": [
    "generate_confusion_matrix(confusion_matrix(y_test, rf_rscv_model_1_preds))"
   ]
  },
  {
   "cell_type": "code",
   "execution_count": 146,
   "metadata": {},
   "outputs": [],
   "source": [
    "import pickle"
   ]
  },
  {
   "cell_type": "code",
   "execution_count": 148,
   "metadata": {},
   "outputs": [],
   "source": [
    "#random forest cv model picklet\n",
    "pickle.dump(rf_rscv_model_1, open('rf_rscv_model_1.pkl', 'wb'))"
   ]
  },
  {
   "cell_type": "markdown",
   "metadata": {},
   "source": [
    "# XGBoost"
   ]
  },
  {
   "cell_type": "code",
   "execution_count": 149,
   "metadata": {},
   "outputs": [],
   "source": [
    "from xgboost.sklearn import XGBClassifier\n",
    "import xgboost as xgb\n",
    "\n",
    "xgb_clf = xgb.XGBClassifier()\n",
    "xgb_clf.fit(X_train, y_train)\n",
    "xgb_preds = xgb_clf.predict(X_test)"
   ]
  },
  {
   "cell_type": "code",
   "execution_count": 150,
   "metadata": {},
   "outputs": [
    {
     "name": "stdout",
     "output_type": "stream",
     "text": [
      "0.5109261186264308\n"
     ]
    }
   ],
   "source": [
    "print(f1_score(y_test, xgb_preds))"
   ]
  },
  {
   "cell_type": "code",
   "execution_count": 151,
   "metadata": {},
   "outputs": [],
   "source": [
    "xgb_cm = confusion_matrix(y_test, xgb_preds)"
   ]
  },
  {
   "cell_type": "code",
   "execution_count": 152,
   "metadata": {},
   "outputs": [
    {
     "data": {
      "image/png": "[encoded data removed]",
      "text/plain": [
       "<Figure size 720x504 with 2 Axes>"
      ]
     },
     "metadata": {
      "needs_background": "light"
     },
     "output_type": "display_data"
    }
   ],
   "source": [
    "generate_confusion_matrix(xgb_cm)"
   ]
  },
  {
   "cell_type": "code",
   "execution_count": 154,
   "metadata": {},
   "outputs": [
    {
     "name": "stdout",
     "output_type": "stream",
     "text": [
      "Fitting 5 folds for each of 30 candidates, totalling 150 fits\n",
      "[CV] learning_rate=0.0001, alpha=0.0001 ..............................\n"
     ]
    },
    {
     "name": "stderr",
     "output_type": "stream",
     "text": [
      "[Parallel(n_jobs=1)]: Using backend SequentialBackend with 1 concurrent workers.\n"
     ]
    },
    {
     "name": "stdout",
     "output_type": "stream",
     "text": [
      "[CV] ............... learning_rate=0.0001, alpha=0.0001, total=   0.7s\n",
      "[CV] learning_rate=0.0001, alpha=0.0001 ..............................\n"
     ]
    },
    {
     "name": "stderr",
     "output_type": "stream",
     "text": [
      "[Parallel(n_jobs=1)]: Done   1 out of   1 | elapsed:    0.6s remaining:    0.0s\n"
     ]
    },
    {
     "name": "stdout",
     "output_type": "stream",
     "text": [
      "[CV] ............... learning_rate=0.0001, alpha=0.0001, total=   0.7s\n",
      "[CV] learning_rate=0.0001, alpha=0.0001 ..............................\n",
      "[CV] ............... learning_rate=0.0001, alpha=0.0001, total=   0.8s\n",
      "[CV] learning_rate=0.0001, alpha=0.0001 ..............................\n",
      "[CV] ............... learning_rate=0.0001, alpha=0.0001, total=   0.7s\n",
      "[CV] learning_rate=0.0001, alpha=0.0001 ..............................\n",
      "[CV] ............... learning_rate=0.0001, alpha=0.0001, total=   0.8s\n",
      "[CV] learning_rate=0.3, alpha=0.0001 .................................\n",
      "[CV] .................. learning_rate=0.3, alpha=0.0001, total=   0.8s\n",
      "[CV] learning_rate=0.3, alpha=0.0001 .................................\n",
      "[CV] .................. learning_rate=0.3, alpha=0.0001, total=   0.7s\n",
      "[CV] learning_rate=0.3, alpha=0.0001 .................................\n",
      "[CV] .................. learning_rate=0.3, alpha=0.0001, total=   0.8s\n",
      "[CV] learning_rate=0.3, alpha=0.0001 .................................\n",
      "[CV] .................. learning_rate=0.3, alpha=0.0001, total=   0.8s\n",
      "[CV] learning_rate=0.3, alpha=0.0001 .................................\n",
      "[CV] .................. learning_rate=0.3, alpha=0.0001, total=   0.8s\n",
      "[CV] learning_rate=0.0001, alpha=0.1 .................................\n",
      "[CV] .................. learning_rate=0.0001, alpha=0.1, total=   0.8s\n",
      "[CV] learning_rate=0.0001, alpha=0.1 .................................\n",
      "[CV] .................. learning_rate=0.0001, alpha=0.1, total=   0.8s\n",
      "[CV] learning_rate=0.0001, alpha=0.1 .................................\n",
      "[CV] .................. learning_rate=0.0001, alpha=0.1, total=   0.8s\n",
      "[CV] learning_rate=0.0001, alpha=0.1 .................................\n",
      "[CV] .................. learning_rate=0.0001, alpha=0.1, total=   0.9s\n",
      "[CV] learning_rate=0.0001, alpha=0.1 .................................\n",
      "[CV] .................. learning_rate=0.0001, alpha=0.1, total=   0.9s\n",
      "[CV] learning_rate=0.1, alpha=1 ......................................\n",
      "[CV] ....................... learning_rate=0.1, alpha=1, total=   1.0s\n",
      "[CV] learning_rate=0.1, alpha=1 ......................................\n",
      "[CV] ....................... learning_rate=0.1, alpha=1, total=   0.9s\n",
      "[CV] learning_rate=0.1, alpha=1 ......................................\n",
      "[CV] ....................... learning_rate=0.1, alpha=1, total=   0.9s\n",
      "[CV] learning_rate=0.1, alpha=1 ......................................\n",
      "[CV] ....................... learning_rate=0.1, alpha=1, total=   1.0s\n",
      "[CV] learning_rate=0.1, alpha=1 ......................................\n",
      "[CV] ....................... learning_rate=0.1, alpha=1, total=   0.9s\n",
      "[CV] learning_rate=0.001, alpha=0.001 ................................\n",
      "[CV] ................. learning_rate=0.001, alpha=0.001, total=   0.8s\n",
      "[CV] learning_rate=0.001, alpha=0.001 ................................\n",
      "[CV] ................. learning_rate=0.001, alpha=0.001, total=   0.9s\n",
      "[CV] learning_rate=0.001, alpha=0.001 ................................\n",
      "[CV] ................. learning_rate=0.001, alpha=0.001, total=   0.9s\n",
      "[CV] learning_rate=0.001, alpha=0.001 ................................\n",
      "[CV] ................. learning_rate=0.001, alpha=0.001, total=   0.9s\n",
      "[CV] learning_rate=0.001, alpha=0.001 ................................\n",
      "[CV] ................. learning_rate=0.001, alpha=0.001, total=   0.9s\n",
      "[CV] learning_rate=0.0001, alpha=100 .................................\n",
      "[CV] .................. learning_rate=0.0001, alpha=100, total=   0.9s\n",
      "[CV] learning_rate=0.0001, alpha=100 .................................\n",
      "[CV] .................. learning_rate=0.0001, alpha=100, total=   0.9s\n",
      "[CV] learning_rate=0.0001, alpha=100 .................................\n",
      "[CV] .................. learning_rate=0.0001, alpha=100, total=   0.9s\n",
      "[CV] learning_rate=0.0001, alpha=100 .................................\n",
      "[CV] .................. learning_rate=0.0001, alpha=100, total=   0.9s\n",
      "[CV] learning_rate=0.0001, alpha=100 .................................\n",
      "[CV] .................. learning_rate=0.0001, alpha=100, total=   0.9s\n",
      "[CV] learning_rate=0.1, alpha=0.01 ...................................\n",
      "[CV] .................... learning_rate=0.1, alpha=0.01, total=   0.9s\n",
      "[CV] learning_rate=0.1, alpha=0.01 ...................................\n",
      "[CV] .................... learning_rate=0.1, alpha=0.01, total=   0.9s\n",
      "[CV] learning_rate=0.1, alpha=0.01 ...................................\n",
      "[CV] .................... learning_rate=0.1, alpha=0.01, total=   0.9s\n",
      "[CV] learning_rate=0.1, alpha=0.01 ...................................\n",
      "[CV] .................... learning_rate=0.1, alpha=0.01, total=   1.0s\n",
      "[CV] learning_rate=0.1, alpha=0.01 ...................................\n",
      "[CV] .................... learning_rate=0.1, alpha=0.01, total=   0.9s\n",
      "[CV] learning_rate=0.0001, alpha=10 ..................................\n",
      "[CV] ................... learning_rate=0.0001, alpha=10, total=   0.9s\n",
      "[CV] learning_rate=0.0001, alpha=10 ..................................\n",
      "[CV] ................... learning_rate=0.0001, alpha=10, total=   0.9s\n",
      "[CV] learning_rate=0.0001, alpha=10 ..................................\n",
      "[CV] ................... learning_rate=0.0001, alpha=10, total=   0.9s\n",
      "[CV] learning_rate=0.0001, alpha=10 ..................................\n",
      "[CV] ................... learning_rate=0.0001, alpha=10, total=   0.9s\n",
      "[CV] learning_rate=0.0001, alpha=10 ..................................\n",
      "[CV] ................... learning_rate=0.0001, alpha=10, total=   0.9s\n",
      "[CV] learning_rate=0.0001, alpha=0.001 ...............................\n",
      "[CV] ................ learning_rate=0.0001, alpha=0.001, total=   0.9s\n",
      "[CV] learning_rate=0.0001, alpha=0.001 ...............................\n",
      "[CV] ................ learning_rate=0.0001, alpha=0.001, total=   0.9s\n",
      "[CV] learning_rate=0.0001, alpha=0.001 ...............................\n",
      "[CV] ................ learning_rate=0.0001, alpha=0.001, total=   0.9s\n",
      "[CV] learning_rate=0.0001, alpha=0.001 ...............................\n",
      "[CV] ................ learning_rate=0.0001, alpha=0.001, total=   0.9s\n",
      "[CV] learning_rate=0.0001, alpha=0.001 ...............................\n",
      "[CV] ................ learning_rate=0.0001, alpha=0.001, total=   0.9s\n",
      "[CV] learning_rate=0.1, alpha=100 ....................................\n",
      "[CV] ..................... learning_rate=0.1, alpha=100, total=   0.9s\n",
      "[CV] learning_rate=0.1, alpha=100 ....................................\n",
      "[CV] ..................... learning_rate=0.1, alpha=100, total=   1.0s\n",
      "[CV] learning_rate=0.1, alpha=100 ....................................\n",
      "[CV] ..................... learning_rate=0.1, alpha=100, total=   1.0s\n",
      "[CV] learning_rate=0.1, alpha=100 ....................................\n",
      "[CV] ..................... learning_rate=0.1, alpha=100, total=   0.9s\n",
      "[CV] learning_rate=0.1, alpha=100 ....................................\n",
      "[CV] ..................... learning_rate=0.1, alpha=100, total=   1.0s\n",
      "[CV] learning_rate=0.2, alpha=1 ......................................\n",
      "[CV] ....................... learning_rate=0.2, alpha=1, total=   0.9s\n",
      "[CV] learning_rate=0.2, alpha=1 ......................................\n",
      "[CV] ....................... learning_rate=0.2, alpha=1, total=   0.9s\n",
      "[CV] learning_rate=0.2, alpha=1 ......................................\n",
      "[CV] ....................... learning_rate=0.2, alpha=1, total=   1.0s\n",
      "[CV] learning_rate=0.2, alpha=1 ......................................\n",
      "[CV] ....................... learning_rate=0.2, alpha=1, total=   0.9s\n",
      "[CV] learning_rate=0.2, alpha=1 ......................................\n",
      "[CV] ....................... learning_rate=0.2, alpha=1, total=   1.0s\n",
      "[CV] learning_rate=0.01, alpha=10 ....................................\n",
      "[CV] ..................... learning_rate=0.01, alpha=10, total=   0.9s\n",
      "[CV] learning_rate=0.01, alpha=10 ....................................\n",
      "[CV] ..................... learning_rate=0.01, alpha=10, total=   0.9s\n",
      "[CV] learning_rate=0.01, alpha=10 ....................................\n",
      "[CV] ..................... learning_rate=0.01, alpha=10, total=   1.0s\n",
      "[CV] learning_rate=0.01, alpha=10 ....................................\n",
      "[CV] ..................... learning_rate=0.01, alpha=10, total=   0.9s\n",
      "[CV] learning_rate=0.01, alpha=10 ....................................\n"
     ]
    },
    {
     "name": "stdout",
     "output_type": "stream",
     "text": [
      "[CV] ..................... learning_rate=0.01, alpha=10, total=   1.0s\n",
      "[CV] learning_rate=0.001, alpha=0.01 .................................\n",
      "[CV] .................. learning_rate=0.001, alpha=0.01, total=   0.9s\n",
      "[CV] learning_rate=0.001, alpha=0.01 .................................\n",
      "[CV] .................. learning_rate=0.001, alpha=0.01, total=   0.9s\n",
      "[CV] learning_rate=0.001, alpha=0.01 .................................\n",
      "[CV] .................. learning_rate=0.001, alpha=0.01, total=   1.0s\n",
      "[CV] learning_rate=0.001, alpha=0.01 .................................\n",
      "[CV] .................. learning_rate=0.001, alpha=0.01, total=   1.0s\n",
      "[CV] learning_rate=0.001, alpha=0.01 .................................\n",
      "[CV] .................. learning_rate=0.001, alpha=0.01, total=   1.0s\n",
      "[CV] learning_rate=0.1, alpha=0.0001 .................................\n",
      "[CV] .................. learning_rate=0.1, alpha=0.0001, total=   1.0s\n",
      "[CV] learning_rate=0.1, alpha=0.0001 .................................\n",
      "[CV] .................. learning_rate=0.1, alpha=0.0001, total=   0.9s\n",
      "[CV] learning_rate=0.1, alpha=0.0001 .................................\n",
      "[CV] .................. learning_rate=0.1, alpha=0.0001, total=   0.9s\n",
      "[CV] learning_rate=0.1, alpha=0.0001 .................................\n",
      "[CV] .................. learning_rate=0.1, alpha=0.0001, total=   1.0s\n",
      "[CV] learning_rate=0.1, alpha=0.0001 .................................\n",
      "[CV] .................. learning_rate=0.1, alpha=0.0001, total=   1.0s\n",
      "[CV] learning_rate=0.2, alpha=10 .....................................\n",
      "[CV] ...................... learning_rate=0.2, alpha=10, total=   1.0s\n",
      "[CV] learning_rate=0.2, alpha=10 .....................................\n",
      "[CV] ...................... learning_rate=0.2, alpha=10, total=   0.9s\n",
      "[CV] learning_rate=0.2, alpha=10 .....................................\n",
      "[CV] ...................... learning_rate=0.2, alpha=10, total=   0.9s\n",
      "[CV] learning_rate=0.2, alpha=10 .....................................\n",
      "[CV] ...................... learning_rate=0.2, alpha=10, total=   0.9s\n",
      "[CV] learning_rate=0.2, alpha=10 .....................................\n",
      "[CV] ...................... learning_rate=0.2, alpha=10, total=   0.9s\n",
      "[CV] learning_rate=0.3, alpha=0.001 ..................................\n",
      "[CV] ................... learning_rate=0.3, alpha=0.001, total=   0.9s\n",
      "[CV] learning_rate=0.3, alpha=0.001 ..................................\n",
      "[CV] ................... learning_rate=0.3, alpha=0.001, total=   1.0s\n",
      "[CV] learning_rate=0.3, alpha=0.001 ..................................\n",
      "[CV] ................... learning_rate=0.3, alpha=0.001, total=   1.0s\n",
      "[CV] learning_rate=0.3, alpha=0.001 ..................................\n",
      "[CV] ................... learning_rate=0.3, alpha=0.001, total=   1.0s\n",
      "[CV] learning_rate=0.3, alpha=0.001 ..................................\n",
      "[CV] ................... learning_rate=0.3, alpha=0.001, total=   0.9s\n",
      "[CV] learning_rate=0.01, alpha=0.0009 ................................\n",
      "[CV] ................. learning_rate=0.01, alpha=0.0009, total=   0.9s\n",
      "[CV] learning_rate=0.01, alpha=0.0009 ................................\n",
      "[CV] ................. learning_rate=0.01, alpha=0.0009, total=   0.9s\n",
      "[CV] learning_rate=0.01, alpha=0.0009 ................................\n",
      "[CV] ................. learning_rate=0.01, alpha=0.0009, total=   1.0s\n",
      "[CV] learning_rate=0.01, alpha=0.0009 ................................\n",
      "[CV] ................. learning_rate=0.01, alpha=0.0009, total=   0.9s\n",
      "[CV] learning_rate=0.01, alpha=0.0009 ................................\n",
      "[CV] ................. learning_rate=0.01, alpha=0.0009, total=   0.9s\n",
      "[CV] learning_rate=0.0001, alpha=0.0009 ..............................\n",
      "[CV] ............... learning_rate=0.0001, alpha=0.0009, total=   1.0s\n",
      "[CV] learning_rate=0.0001, alpha=0.0009 ..............................\n",
      "[CV] ............... learning_rate=0.0001, alpha=0.0009, total=   0.9s\n",
      "[CV] learning_rate=0.0001, alpha=0.0009 ..............................\n",
      "[CV] ............... learning_rate=0.0001, alpha=0.0009, total=   1.0s\n",
      "[CV] learning_rate=0.0001, alpha=0.0009 ..............................\n",
      "[CV] ............... learning_rate=0.0001, alpha=0.0009, total=   0.9s\n",
      "[CV] learning_rate=0.0001, alpha=0.0009 ..............................\n",
      "[CV] ............... learning_rate=0.0001, alpha=0.0009, total=   1.0s\n",
      "[CV] learning_rate=0.2, alpha=0.1 ....................................\n",
      "[CV] ..................... learning_rate=0.2, alpha=0.1, total=   1.0s\n",
      "[CV] learning_rate=0.2, alpha=0.1 ....................................\n",
      "[CV] ..................... learning_rate=0.2, alpha=0.1, total=   1.0s\n",
      "[CV] learning_rate=0.2, alpha=0.1 ....................................\n",
      "[CV] ..................... learning_rate=0.2, alpha=0.1, total=   1.0s\n",
      "[CV] learning_rate=0.2, alpha=0.1 ....................................\n",
      "[CV] ..................... learning_rate=0.2, alpha=0.1, total=   1.0s\n",
      "[CV] learning_rate=0.2, alpha=0.1 ....................................\n",
      "[CV] ..................... learning_rate=0.2, alpha=0.1, total=   1.1s\n",
      "[CV] learning_rate=0.2, alpha=0.0001 .................................\n",
      "[CV] .................. learning_rate=0.2, alpha=0.0001, total=   1.0s\n",
      "[CV] learning_rate=0.2, alpha=0.0001 .................................\n",
      "[CV] .................. learning_rate=0.2, alpha=0.0001, total=   1.0s\n",
      "[CV] learning_rate=0.2, alpha=0.0001 .................................\n",
      "[CV] .................. learning_rate=0.2, alpha=0.0001, total=   1.0s\n",
      "[CV] learning_rate=0.2, alpha=0.0001 .................................\n",
      "[CV] .................. learning_rate=0.2, alpha=0.0001, total=   1.0s\n",
      "[CV] learning_rate=0.2, alpha=0.0001 .................................\n",
      "[CV] .................. learning_rate=0.2, alpha=0.0001, total=   1.0s\n",
      "[CV] learning_rate=0.001, alpha=1 ....................................\n",
      "[CV] ..................... learning_rate=0.001, alpha=1, total=   0.9s\n",
      "[CV] learning_rate=0.001, alpha=1 ....................................\n",
      "[CV] ..................... learning_rate=0.001, alpha=1, total=   0.9s\n",
      "[CV] learning_rate=0.001, alpha=1 ....................................\n",
      "[CV] ..................... learning_rate=0.001, alpha=1, total=   1.0s\n",
      "[CV] learning_rate=0.001, alpha=1 ....................................\n",
      "[CV] ..................... learning_rate=0.001, alpha=1, total=   1.0s\n",
      "[CV] learning_rate=0.001, alpha=1 ....................................\n",
      "[CV] ..................... learning_rate=0.001, alpha=1, total=   1.0s\n",
      "[CV] learning_rate=0.001, alpha=0.002 ................................\n",
      "[CV] ................. learning_rate=0.001, alpha=0.002, total=   0.9s\n",
      "[CV] learning_rate=0.001, alpha=0.002 ................................\n",
      "[CV] ................. learning_rate=0.001, alpha=0.002, total=   0.9s\n",
      "[CV] learning_rate=0.001, alpha=0.002 ................................\n",
      "[CV] ................. learning_rate=0.001, alpha=0.002, total=   1.0s\n",
      "[CV] learning_rate=0.001, alpha=0.002 ................................\n",
      "[CV] ................. learning_rate=0.001, alpha=0.002, total=   1.0s\n",
      "[CV] learning_rate=0.001, alpha=0.002 ................................\n",
      "[CV] ................. learning_rate=0.001, alpha=0.002, total=   1.1s\n",
      "[CV] learning_rate=0.2, alpha=0.01 ...................................\n",
      "[CV] .................... learning_rate=0.2, alpha=0.01, total=   1.0s\n",
      "[CV] learning_rate=0.2, alpha=0.01 ...................................\n",
      "[CV] .................... learning_rate=0.2, alpha=0.01, total=   1.0s\n",
      "[CV] learning_rate=0.2, alpha=0.01 ...................................\n",
      "[CV] .................... learning_rate=0.2, alpha=0.01, total=   1.0s\n",
      "[CV] learning_rate=0.2, alpha=0.01 ...................................\n",
      "[CV] .................... learning_rate=0.2, alpha=0.01, total=   1.0s\n",
      "[CV] learning_rate=0.2, alpha=0.01 ...................................\n",
      "[CV] .................... learning_rate=0.2, alpha=0.01, total=   1.0s\n",
      "[CV] learning_rate=0.2, alpha=100 ....................................\n",
      "[CV] ..................... learning_rate=0.2, alpha=100, total=   1.0s\n",
      "[CV] learning_rate=0.2, alpha=100 ....................................\n",
      "[CV] ..................... learning_rate=0.2, alpha=100, total=   1.0s\n",
      "[CV] learning_rate=0.2, alpha=100 ....................................\n"
     ]
    },
    {
     "name": "stdout",
     "output_type": "stream",
     "text": [
      "[CV] ..................... learning_rate=0.2, alpha=100, total=   1.0s\n",
      "[CV] learning_rate=0.2, alpha=100 ....................................\n",
      "[CV] ..................... learning_rate=0.2, alpha=100, total=   1.0s\n",
      "[CV] learning_rate=0.2, alpha=100 ....................................\n",
      "[CV] ..................... learning_rate=0.2, alpha=100, total=   1.0s\n",
      "[CV] learning_rate=0.001, alpha=0.003 ................................\n",
      "[CV] ................. learning_rate=0.001, alpha=0.003, total=   0.9s\n",
      "[CV] learning_rate=0.001, alpha=0.003 ................................\n",
      "[CV] ................. learning_rate=0.001, alpha=0.003, total=   1.0s\n",
      "[CV] learning_rate=0.001, alpha=0.003 ................................\n",
      "[CV] ................. learning_rate=0.001, alpha=0.003, total=   1.0s\n",
      "[CV] learning_rate=0.001, alpha=0.003 ................................\n",
      "[CV] ................. learning_rate=0.001, alpha=0.003, total=   0.9s\n",
      "[CV] learning_rate=0.001, alpha=0.003 ................................\n",
      "[CV] ................. learning_rate=0.001, alpha=0.003, total=   1.0s\n",
      "[CV] learning_rate=0.01, alpha=100 ...................................\n",
      "[CV] .................... learning_rate=0.01, alpha=100, total=   1.1s\n",
      "[CV] learning_rate=0.01, alpha=100 ...................................\n",
      "[CV] .................... learning_rate=0.01, alpha=100, total=   1.2s\n",
      "[CV] learning_rate=0.01, alpha=100 ...................................\n",
      "[CV] .................... learning_rate=0.01, alpha=100, total=   1.1s\n",
      "[CV] learning_rate=0.01, alpha=100 ...................................\n",
      "[CV] .................... learning_rate=0.01, alpha=100, total=   1.2s\n",
      "[CV] learning_rate=0.01, alpha=100 ...................................\n",
      "[CV] .................... learning_rate=0.01, alpha=100, total=   1.2s\n",
      "[CV] learning_rate=0.1, alpha=0.001 ..................................\n",
      "[CV] ................... learning_rate=0.1, alpha=0.001, total=   1.2s\n",
      "[CV] learning_rate=0.1, alpha=0.001 ..................................\n",
      "[CV] ................... learning_rate=0.1, alpha=0.001, total=   1.2s\n",
      "[CV] learning_rate=0.1, alpha=0.001 ..................................\n",
      "[CV] ................... learning_rate=0.1, alpha=0.001, total=   1.2s\n",
      "[CV] learning_rate=0.1, alpha=0.001 ..................................\n",
      "[CV] ................... learning_rate=0.1, alpha=0.001, total=   1.2s\n",
      "[CV] learning_rate=0.1, alpha=0.001 ..................................\n",
      "[CV] ................... learning_rate=0.1, alpha=0.001, total=   1.3s\n",
      "[CV] learning_rate=0.1, alpha=0.003 ..................................\n",
      "[CV] ................... learning_rate=0.1, alpha=0.003, total=   1.3s\n",
      "[CV] learning_rate=0.1, alpha=0.003 ..................................\n",
      "[CV] ................... learning_rate=0.1, alpha=0.003, total=   1.2s\n",
      "[CV] learning_rate=0.1, alpha=0.003 ..................................\n",
      "[CV] ................... learning_rate=0.1, alpha=0.003, total=   1.3s\n",
      "[CV] learning_rate=0.1, alpha=0.003 ..................................\n",
      "[CV] ................... learning_rate=0.1, alpha=0.003, total=   1.2s\n",
      "[CV] learning_rate=0.1, alpha=0.003 ..................................\n",
      "[CV] ................... learning_rate=0.1, alpha=0.003, total=   1.2s\n",
      "[CV] learning_rate=0.1, alpha=0.0009 .................................\n",
      "[CV] .................. learning_rate=0.1, alpha=0.0009, total=   1.2s\n",
      "[CV] learning_rate=0.1, alpha=0.0009 .................................\n",
      "[CV] .................. learning_rate=0.1, alpha=0.0009, total=   1.2s\n",
      "[CV] learning_rate=0.1, alpha=0.0009 .................................\n",
      "[CV] .................. learning_rate=0.1, alpha=0.0009, total=   1.2s\n",
      "[CV] learning_rate=0.1, alpha=0.0009 .................................\n",
      "[CV] .................. learning_rate=0.1, alpha=0.0009, total=   1.2s\n",
      "[CV] learning_rate=0.1, alpha=0.0009 .................................\n",
      "[CV] .................. learning_rate=0.1, alpha=0.0009, total=   1.2s\n",
      "[CV] learning_rate=0.0001, alpha=0.01 ................................\n",
      "[CV] ................. learning_rate=0.0001, alpha=0.01, total=   1.2s\n",
      "[CV] learning_rate=0.0001, alpha=0.01 ................................\n",
      "[CV] ................. learning_rate=0.0001, alpha=0.01, total=   1.1s\n",
      "[CV] learning_rate=0.0001, alpha=0.01 ................................\n",
      "[CV] ................. learning_rate=0.0001, alpha=0.01, total=   1.2s\n",
      "[CV] learning_rate=0.0001, alpha=0.01 ................................\n",
      "[CV] ................. learning_rate=0.0001, alpha=0.01, total=   1.1s\n",
      "[CV] learning_rate=0.0001, alpha=0.01 ................................\n",
      "[CV] ................. learning_rate=0.0001, alpha=0.01, total=   1.1s\n"
     ]
    },
    {
     "name": "stderr",
     "output_type": "stream",
     "text": [
      "[Parallel(n_jobs=1)]: Done 150 out of 150 | elapsed:  2.4min finished\n"
     ]
    },
    {
     "name": "stdout",
     "output_type": "stream",
     "text": [
      "The best value of Alpha and Learning Rate is: {'learning_rate': 0.1, 'alpha': 1}\n"
     ]
    }
   ],
   "source": [
    "xgb_param= {'alpha':[0.0001,0.0009,0.001,0.002,0.003,0.01,0.1,1,10,100],\n",
    "           'learning_rate': [0.0001, 0.001, 0.01, 0.1, 0.2, 0.3]}\n",
    "\n",
    "xgb_cv_model_1 = RandomizedSearchCV(estimator = xgb_clf, param_distributions=xgb_param, \n",
    "                                  n_iter = 30, cv = 5, verbose=2, random_state=42)\n",
    "xgb_cv_model_1.fit(X_train,y_train)\n",
    "print(f'The best value of Alpha and Learning Rate is: {xgb_cv_model_1.best_params_}')"
   ]
  },
  {
   "cell_type": "code",
   "execution_count": 162,
   "metadata": {},
   "outputs": [],
   "source": [
    "#https://machinelearningmastery.com/tune-learning-rate-for-gradient-boosting-with-xgboost-in-python/\n",
    "xgb_param2 = {'learning_rate' : [0.1],\n",
    "             'n_estimators':[500, 1000, 2000, 3000, 4000],\n",
    "             'max_depth':[4,5,6],\n",
    "             'min_child_weight':[4,5,6],\n",
    "             'colsample_bytree':[0.5,0.7],\n",
    "             'reg_alpha':[1],\n",
    "             'reg_lambda':[1,0.01,0.8,0.001,0.0001]}"
   ]
  },
  {
   "cell_type": "code",
   "execution_count": 163,
   "metadata": {},
   "outputs": [
    {
     "name": "stdout",
     "output_type": "stream",
     "text": [
      "Fitting 5 folds for each of 30 candidates, totalling 150 fits\n",
      "[CV] reg_lambda=0.8, reg_alpha=1, n_estimators=1000, min_child_weight=5, max_depth=6, learning_rate=0.1, colsample_bytree=0.7 \n"
     ]
    },
    {
     "name": "stderr",
     "output_type": "stream",
     "text": [
      "[Parallel(n_jobs=1)]: Using backend SequentialBackend with 1 concurrent workers.\n"
     ]
    },
    {
     "name": "stdout",
     "output_type": "stream",
     "text": [
      "[CV]  reg_lambda=0.8, reg_alpha=1, n_estimators=1000, min_child_weight=5, max_depth=6, learning_rate=0.1, colsample_bytree=0.7, total=   6.0s\n",
      "[CV] reg_lambda=0.8, reg_alpha=1, n_estimators=1000, min_child_weight=5, max_depth=6, learning_rate=0.1, colsample_bytree=0.7 \n"
     ]
    },
    {
     "name": "stderr",
     "output_type": "stream",
     "text": [
      "[Parallel(n_jobs=1)]: Done   1 out of   1 | elapsed:    5.9s remaining:    0.0s\n"
     ]
    },
    {
     "name": "stdout",
     "output_type": "stream",
     "text": [
      "[CV]  reg_lambda=0.8, reg_alpha=1, n_estimators=1000, min_child_weight=5, max_depth=6, learning_rate=0.1, colsample_bytree=0.7, total=   6.1s\n",
      "[CV] reg_lambda=0.8, reg_alpha=1, n_estimators=1000, min_child_weight=5, max_depth=6, learning_rate=0.1, colsample_bytree=0.7 \n",
      "[CV]  reg_lambda=0.8, reg_alpha=1, n_estimators=1000, min_child_weight=5, max_depth=6, learning_rate=0.1, colsample_bytree=0.7, total=   6.3s\n",
      "[CV] reg_lambda=0.8, reg_alpha=1, n_estimators=1000, min_child_weight=5, max_depth=6, learning_rate=0.1, colsample_bytree=0.7 \n",
      "[CV]  reg_lambda=0.8, reg_alpha=1, n_estimators=1000, min_child_weight=5, max_depth=6, learning_rate=0.1, colsample_bytree=0.7, total=   6.7s\n",
      "[CV] reg_lambda=0.8, reg_alpha=1, n_estimators=1000, min_child_weight=5, max_depth=6, learning_rate=0.1, colsample_bytree=0.7 \n",
      "[CV]  reg_lambda=0.8, reg_alpha=1, n_estimators=1000, min_child_weight=5, max_depth=6, learning_rate=0.1, colsample_bytree=0.7, total=   8.0s\n",
      "[CV] reg_lambda=0.0001, reg_alpha=1, n_estimators=3000, min_child_weight=6, max_depth=6, learning_rate=0.1, colsample_bytree=0.7 \n",
      "[CV]  reg_lambda=0.0001, reg_alpha=1, n_estimators=3000, min_child_weight=6, max_depth=6, learning_rate=0.1, colsample_bytree=0.7, total=  17.4s\n",
      "[CV] reg_lambda=0.0001, reg_alpha=1, n_estimators=3000, min_child_weight=6, max_depth=6, learning_rate=0.1, colsample_bytree=0.7 \n",
      "[CV]  reg_lambda=0.0001, reg_alpha=1, n_estimators=3000, min_child_weight=6, max_depth=6, learning_rate=0.1, colsample_bytree=0.7, total=  16.3s\n",
      "[CV] reg_lambda=0.0001, reg_alpha=1, n_estimators=3000, min_child_weight=6, max_depth=6, learning_rate=0.1, colsample_bytree=0.7 \n",
      "[CV]  reg_lambda=0.0001, reg_alpha=1, n_estimators=3000, min_child_weight=6, max_depth=6, learning_rate=0.1, colsample_bytree=0.7, total=  17.8s\n",
      "[CV] reg_lambda=0.0001, reg_alpha=1, n_estimators=3000, min_child_weight=6, max_depth=6, learning_rate=0.1, colsample_bytree=0.7 \n",
      "[CV]  reg_lambda=0.0001, reg_alpha=1, n_estimators=3000, min_child_weight=6, max_depth=6, learning_rate=0.1, colsample_bytree=0.7, total=  19.0s\n",
      "[CV] reg_lambda=0.0001, reg_alpha=1, n_estimators=3000, min_child_weight=6, max_depth=6, learning_rate=0.1, colsample_bytree=0.7 \n",
      "[CV]  reg_lambda=0.0001, reg_alpha=1, n_estimators=3000, min_child_weight=6, max_depth=6, learning_rate=0.1, colsample_bytree=0.7, total=  20.0s\n",
      "[CV] reg_lambda=0.8, reg_alpha=1, n_estimators=3000, min_child_weight=5, max_depth=5, learning_rate=0.1, colsample_bytree=0.5 \n",
      "[CV]  reg_lambda=0.8, reg_alpha=1, n_estimators=3000, min_child_weight=5, max_depth=5, learning_rate=0.1, colsample_bytree=0.5, total=  15.6s\n",
      "[CV] reg_lambda=0.8, reg_alpha=1, n_estimators=3000, min_child_weight=5, max_depth=5, learning_rate=0.1, colsample_bytree=0.5 \n",
      "[CV]  reg_lambda=0.8, reg_alpha=1, n_estimators=3000, min_child_weight=5, max_depth=5, learning_rate=0.1, colsample_bytree=0.5, total=  15.8s\n",
      "[CV] reg_lambda=0.8, reg_alpha=1, n_estimators=3000, min_child_weight=5, max_depth=5, learning_rate=0.1, colsample_bytree=0.5 \n",
      "[CV]  reg_lambda=0.8, reg_alpha=1, n_estimators=3000, min_child_weight=5, max_depth=5, learning_rate=0.1, colsample_bytree=0.5, total=  17.5s\n",
      "[CV] reg_lambda=0.8, reg_alpha=1, n_estimators=3000, min_child_weight=5, max_depth=5, learning_rate=0.1, colsample_bytree=0.5 \n",
      "[CV]  reg_lambda=0.8, reg_alpha=1, n_estimators=3000, min_child_weight=5, max_depth=5, learning_rate=0.1, colsample_bytree=0.5, total=  14.6s\n",
      "[CV] reg_lambda=0.8, reg_alpha=1, n_estimators=3000, min_child_weight=5, max_depth=5, learning_rate=0.1, colsample_bytree=0.5 \n",
      "[CV]  reg_lambda=0.8, reg_alpha=1, n_estimators=3000, min_child_weight=5, max_depth=5, learning_rate=0.1, colsample_bytree=0.5, total=  17.6s\n",
      "[CV] reg_lambda=1, reg_alpha=1, n_estimators=1000, min_child_weight=5, max_depth=4, learning_rate=0.1, colsample_bytree=0.5 \n",
      "[CV]  reg_lambda=1, reg_alpha=1, n_estimators=1000, min_child_weight=5, max_depth=4, learning_rate=0.1, colsample_bytree=0.5, total=   5.7s\n",
      "[CV] reg_lambda=1, reg_alpha=1, n_estimators=1000, min_child_weight=5, max_depth=4, learning_rate=0.1, colsample_bytree=0.5 \n",
      "[CV]  reg_lambda=1, reg_alpha=1, n_estimators=1000, min_child_weight=5, max_depth=4, learning_rate=0.1, colsample_bytree=0.5, total=   5.7s\n",
      "[CV] reg_lambda=1, reg_alpha=1, n_estimators=1000, min_child_weight=5, max_depth=4, learning_rate=0.1, colsample_bytree=0.5 \n",
      "[CV]  reg_lambda=1, reg_alpha=1, n_estimators=1000, min_child_weight=5, max_depth=4, learning_rate=0.1, colsample_bytree=0.5, total=   5.7s\n",
      "[CV] reg_lambda=1, reg_alpha=1, n_estimators=1000, min_child_weight=5, max_depth=4, learning_rate=0.1, colsample_bytree=0.5 \n",
      "[CV]  reg_lambda=1, reg_alpha=1, n_estimators=1000, min_child_weight=5, max_depth=4, learning_rate=0.1, colsample_bytree=0.5, total=   5.8s\n",
      "[CV] reg_lambda=1, reg_alpha=1, n_estimators=1000, min_child_weight=5, max_depth=4, learning_rate=0.1, colsample_bytree=0.5 \n",
      "[CV]  reg_lambda=1, reg_alpha=1, n_estimators=1000, min_child_weight=5, max_depth=4, learning_rate=0.1, colsample_bytree=0.5, total=   5.6s\n",
      "[CV] reg_lambda=1, reg_alpha=1, n_estimators=3000, min_child_weight=5, max_depth=6, learning_rate=0.1, colsample_bytree=0.7 \n",
      "[CV]  reg_lambda=1, reg_alpha=1, n_estimators=3000, min_child_weight=5, max_depth=6, learning_rate=0.1, colsample_bytree=0.7, total=  20.2s\n",
      "[CV] reg_lambda=1, reg_alpha=1, n_estimators=3000, min_child_weight=5, max_depth=6, learning_rate=0.1, colsample_bytree=0.7 \n",
      "[CV]  reg_lambda=1, reg_alpha=1, n_estimators=3000, min_child_weight=5, max_depth=6, learning_rate=0.1, colsample_bytree=0.7, total=  20.8s\n",
      "[CV] reg_lambda=1, reg_alpha=1, n_estimators=3000, min_child_weight=5, max_depth=6, learning_rate=0.1, colsample_bytree=0.7 \n",
      "[CV]  reg_lambda=1, reg_alpha=1, n_estimators=3000, min_child_weight=5, max_depth=6, learning_rate=0.1, colsample_bytree=0.7, total=  21.3s\n",
      "[CV] reg_lambda=1, reg_alpha=1, n_estimators=3000, min_child_weight=5, max_depth=6, learning_rate=0.1, colsample_bytree=0.7 \n",
      "[CV]  reg_lambda=1, reg_alpha=1, n_estimators=3000, min_child_weight=5, max_depth=6, learning_rate=0.1, colsample_bytree=0.7, total=  21.0s\n",
      "[CV] reg_lambda=1, reg_alpha=1, n_estimators=3000, min_child_weight=5, max_depth=6, learning_rate=0.1, colsample_bytree=0.7 \n",
      "[CV]  reg_lambda=1, reg_alpha=1, n_estimators=3000, min_child_weight=5, max_depth=6, learning_rate=0.1, colsample_bytree=0.7, total=  21.1s\n",
      "[CV] reg_lambda=0.8, reg_alpha=1, n_estimators=1000, min_child_weight=4, max_depth=6, learning_rate=0.1, colsample_bytree=0.5 \n",
      "[CV]  reg_lambda=0.8, reg_alpha=1, n_estimators=1000, min_child_weight=4, max_depth=6, learning_rate=0.1, colsample_bytree=0.5, total=   8.0s\n",
      "[CV] reg_lambda=0.8, reg_alpha=1, n_estimators=1000, min_child_weight=4, max_depth=6, learning_rate=0.1, colsample_bytree=0.5 \n",
      "[CV]  reg_lambda=0.8, reg_alpha=1, n_estimators=1000, min_child_weight=4, max_depth=6, learning_rate=0.1, colsample_bytree=0.5, total=   7.8s\n",
      "[CV] reg_lambda=0.8, reg_alpha=1, n_estimators=1000, min_child_weight=4, max_depth=6, learning_rate=0.1, colsample_bytree=0.5 \n",
      "[CV]  reg_lambda=0.8, reg_alpha=1, n_estimators=1000, min_child_weight=4, max_depth=6, learning_rate=0.1, colsample_bytree=0.5, total=   7.6s\n",
      "[CV] reg_lambda=0.8, reg_alpha=1, n_estimators=1000, min_child_weight=4, max_depth=6, learning_rate=0.1, colsample_bytree=0.5 \n",
      "[CV]  reg_lambda=0.8, reg_alpha=1, n_estimators=1000, min_child_weight=4, max_depth=6, learning_rate=0.1, colsample_bytree=0.5, total=   7.5s\n",
      "[CV] reg_lambda=0.8, reg_alpha=1, n_estimators=1000, min_child_weight=4, max_depth=6, learning_rate=0.1, colsample_bytree=0.5 \n",
      "[CV]  reg_lambda=0.8, reg_alpha=1, n_estimators=1000, min_child_weight=4, max_depth=6, learning_rate=0.1, colsample_bytree=0.5, total=   7.4s\n",
      "[CV] reg_lambda=1, reg_alpha=1, n_estimators=500, min_child_weight=5, max_depth=5, learning_rate=0.1, colsample_bytree=0.7 \n",
      "[CV]  reg_lambda=1, reg_alpha=1, n_estimators=500, min_child_weight=5, max_depth=5, learning_rate=0.1, colsample_bytree=0.7, total=   3.8s\n",
      "[CV] reg_lambda=1, reg_alpha=1, n_estimators=500, min_child_weight=5, max_depth=5, learning_rate=0.1, colsample_bytree=0.7 \n",
      "[CV]  reg_lambda=1, reg_alpha=1, n_estimators=500, min_child_weight=5, max_depth=5, learning_rate=0.1, colsample_bytree=0.7, total=   3.9s\n",
      "[CV] reg_lambda=1, reg_alpha=1, n_estimators=500, min_child_weight=5, max_depth=5, learning_rate=0.1, colsample_bytree=0.7 \n"
     ]
    },
    {
     "name": "stdout",
     "output_type": "stream",
     "text": [
      "[CV]  reg_lambda=1, reg_alpha=1, n_estimators=500, min_child_weight=5, max_depth=5, learning_rate=0.1, colsample_bytree=0.7, total=   4.0s\n",
      "[CV] reg_lambda=1, reg_alpha=1, n_estimators=500, min_child_weight=5, max_depth=5, learning_rate=0.1, colsample_bytree=0.7 \n",
      "[CV]  reg_lambda=1, reg_alpha=1, n_estimators=500, min_child_weight=5, max_depth=5, learning_rate=0.1, colsample_bytree=0.7, total=   4.0s\n",
      "[CV] reg_lambda=1, reg_alpha=1, n_estimators=500, min_child_weight=5, max_depth=5, learning_rate=0.1, colsample_bytree=0.7 \n",
      "[CV]  reg_lambda=1, reg_alpha=1, n_estimators=500, min_child_weight=5, max_depth=5, learning_rate=0.1, colsample_bytree=0.7, total=   4.0s\n",
      "[CV] reg_lambda=0.8, reg_alpha=1, n_estimators=4000, min_child_weight=6, max_depth=6, learning_rate=0.1, colsample_bytree=0.7 \n",
      "[CV]  reg_lambda=0.8, reg_alpha=1, n_estimators=4000, min_child_weight=6, max_depth=6, learning_rate=0.1, colsample_bytree=0.7, total=  21.2s\n",
      "[CV] reg_lambda=0.8, reg_alpha=1, n_estimators=4000, min_child_weight=6, max_depth=6, learning_rate=0.1, colsample_bytree=0.7 \n",
      "[CV]  reg_lambda=0.8, reg_alpha=1, n_estimators=4000, min_child_weight=6, max_depth=6, learning_rate=0.1, colsample_bytree=0.7, total=  25.1s\n",
      "[CV] reg_lambda=0.8, reg_alpha=1, n_estimators=4000, min_child_weight=6, max_depth=6, learning_rate=0.1, colsample_bytree=0.7 \n",
      "[CV]  reg_lambda=0.8, reg_alpha=1, n_estimators=4000, min_child_weight=6, max_depth=6, learning_rate=0.1, colsample_bytree=0.7, total=  25.4s\n",
      "[CV] reg_lambda=0.8, reg_alpha=1, n_estimators=4000, min_child_weight=6, max_depth=6, learning_rate=0.1, colsample_bytree=0.7 \n",
      "[CV]  reg_lambda=0.8, reg_alpha=1, n_estimators=4000, min_child_weight=6, max_depth=6, learning_rate=0.1, colsample_bytree=0.7, total=  23.4s\n",
      "[CV] reg_lambda=0.8, reg_alpha=1, n_estimators=4000, min_child_weight=6, max_depth=6, learning_rate=0.1, colsample_bytree=0.7 \n",
      "[CV]  reg_lambda=0.8, reg_alpha=1, n_estimators=4000, min_child_weight=6, max_depth=6, learning_rate=0.1, colsample_bytree=0.7, total=  23.0s\n",
      "[CV] reg_lambda=0.001, reg_alpha=1, n_estimators=3000, min_child_weight=5, max_depth=4, learning_rate=0.1, colsample_bytree=0.7 \n",
      "[CV]  reg_lambda=0.001, reg_alpha=1, n_estimators=3000, min_child_weight=5, max_depth=4, learning_rate=0.1, colsample_bytree=0.7, total=  13.5s\n",
      "[CV] reg_lambda=0.001, reg_alpha=1, n_estimators=3000, min_child_weight=5, max_depth=4, learning_rate=0.1, colsample_bytree=0.7 \n",
      "[CV]  reg_lambda=0.001, reg_alpha=1, n_estimators=3000, min_child_weight=5, max_depth=4, learning_rate=0.1, colsample_bytree=0.7, total=  16.6s\n",
      "[CV] reg_lambda=0.001, reg_alpha=1, n_estimators=3000, min_child_weight=5, max_depth=4, learning_rate=0.1, colsample_bytree=0.7 \n",
      "[CV]  reg_lambda=0.001, reg_alpha=1, n_estimators=3000, min_child_weight=5, max_depth=4, learning_rate=0.1, colsample_bytree=0.7, total=  16.3s\n",
      "[CV] reg_lambda=0.001, reg_alpha=1, n_estimators=3000, min_child_weight=5, max_depth=4, learning_rate=0.1, colsample_bytree=0.7 \n",
      "[CV]  reg_lambda=0.001, reg_alpha=1, n_estimators=3000, min_child_weight=5, max_depth=4, learning_rate=0.1, colsample_bytree=0.7, total=  16.0s\n",
      "[CV] reg_lambda=0.001, reg_alpha=1, n_estimators=3000, min_child_weight=5, max_depth=4, learning_rate=0.1, colsample_bytree=0.7 \n",
      "[CV]  reg_lambda=0.001, reg_alpha=1, n_estimators=3000, min_child_weight=5, max_depth=4, learning_rate=0.1, colsample_bytree=0.7, total=  19.1s\n",
      "[CV] reg_lambda=0.8, reg_alpha=1, n_estimators=4000, min_child_weight=6, max_depth=4, learning_rate=0.1, colsample_bytree=0.7 \n",
      "[CV]  reg_lambda=0.8, reg_alpha=1, n_estimators=4000, min_child_weight=6, max_depth=4, learning_rate=0.1, colsample_bytree=0.7, total=  17.9s\n",
      "[CV] reg_lambda=0.8, reg_alpha=1, n_estimators=4000, min_child_weight=6, max_depth=4, learning_rate=0.1, colsample_bytree=0.7 \n",
      "[CV]  reg_lambda=0.8, reg_alpha=1, n_estimators=4000, min_child_weight=6, max_depth=4, learning_rate=0.1, colsample_bytree=0.7, total=  16.6s\n",
      "[CV] reg_lambda=0.8, reg_alpha=1, n_estimators=4000, min_child_weight=6, max_depth=4, learning_rate=0.1, colsample_bytree=0.7 \n",
      "[CV]  reg_lambda=0.8, reg_alpha=1, n_estimators=4000, min_child_weight=6, max_depth=4, learning_rate=0.1, colsample_bytree=0.7, total=  16.5s\n",
      "[CV] reg_lambda=0.8, reg_alpha=1, n_estimators=4000, min_child_weight=6, max_depth=4, learning_rate=0.1, colsample_bytree=0.7 \n",
      "[CV]  reg_lambda=0.8, reg_alpha=1, n_estimators=4000, min_child_weight=6, max_depth=4, learning_rate=0.1, colsample_bytree=0.7, total=  18.8s\n",
      "[CV] reg_lambda=0.8, reg_alpha=1, n_estimators=4000, min_child_weight=6, max_depth=4, learning_rate=0.1, colsample_bytree=0.7 \n",
      "[CV]  reg_lambda=0.8, reg_alpha=1, n_estimators=4000, min_child_weight=6, max_depth=4, learning_rate=0.1, colsample_bytree=0.7, total=  17.9s\n",
      "[CV] reg_lambda=0.01, reg_alpha=1, n_estimators=1000, min_child_weight=6, max_depth=5, learning_rate=0.1, colsample_bytree=0.5 \n",
      "[CV]  reg_lambda=0.01, reg_alpha=1, n_estimators=1000, min_child_weight=6, max_depth=5, learning_rate=0.1, colsample_bytree=0.5, total=   6.0s\n",
      "[CV] reg_lambda=0.01, reg_alpha=1, n_estimators=1000, min_child_weight=6, max_depth=5, learning_rate=0.1, colsample_bytree=0.5 \n",
      "[CV]  reg_lambda=0.01, reg_alpha=1, n_estimators=1000, min_child_weight=6, max_depth=5, learning_rate=0.1, colsample_bytree=0.5, total=   6.4s\n",
      "[CV] reg_lambda=0.01, reg_alpha=1, n_estimators=1000, min_child_weight=6, max_depth=5, learning_rate=0.1, colsample_bytree=0.5 \n",
      "[CV]  reg_lambda=0.01, reg_alpha=1, n_estimators=1000, min_child_weight=6, max_depth=5, learning_rate=0.1, colsample_bytree=0.5, total=   6.6s\n",
      "[CV] reg_lambda=0.01, reg_alpha=1, n_estimators=1000, min_child_weight=6, max_depth=5, learning_rate=0.1, colsample_bytree=0.5 \n",
      "[CV]  reg_lambda=0.01, reg_alpha=1, n_estimators=1000, min_child_weight=6, max_depth=5, learning_rate=0.1, colsample_bytree=0.5, total=   6.7s\n",
      "[CV] reg_lambda=0.01, reg_alpha=1, n_estimators=1000, min_child_weight=6, max_depth=5, learning_rate=0.1, colsample_bytree=0.5 \n",
      "[CV]  reg_lambda=0.01, reg_alpha=1, n_estimators=1000, min_child_weight=6, max_depth=5, learning_rate=0.1, colsample_bytree=0.5, total=   8.4s\n",
      "[CV] reg_lambda=1, reg_alpha=1, n_estimators=1000, min_child_weight=6, max_depth=6, learning_rate=0.1, colsample_bytree=0.7 \n",
      "[CV]  reg_lambda=1, reg_alpha=1, n_estimators=1000, min_child_weight=6, max_depth=6, learning_rate=0.1, colsample_bytree=0.7, total=   9.2s\n",
      "[CV] reg_lambda=1, reg_alpha=1, n_estimators=1000, min_child_weight=6, max_depth=6, learning_rate=0.1, colsample_bytree=0.7 \n",
      "[CV]  reg_lambda=1, reg_alpha=1, n_estimators=1000, min_child_weight=6, max_depth=6, learning_rate=0.1, colsample_bytree=0.7, total=   8.2s\n",
      "[CV] reg_lambda=1, reg_alpha=1, n_estimators=1000, min_child_weight=6, max_depth=6, learning_rate=0.1, colsample_bytree=0.7 \n",
      "[CV]  reg_lambda=1, reg_alpha=1, n_estimators=1000, min_child_weight=6, max_depth=6, learning_rate=0.1, colsample_bytree=0.7, total=   8.7s\n",
      "[CV] reg_lambda=1, reg_alpha=1, n_estimators=1000, min_child_weight=6, max_depth=6, learning_rate=0.1, colsample_bytree=0.7 \n",
      "[CV]  reg_lambda=1, reg_alpha=1, n_estimators=1000, min_child_weight=6, max_depth=6, learning_rate=0.1, colsample_bytree=0.7, total=   8.9s\n",
      "[CV] reg_lambda=1, reg_alpha=1, n_estimators=1000, min_child_weight=6, max_depth=6, learning_rate=0.1, colsample_bytree=0.7 \n",
      "[CV]  reg_lambda=1, reg_alpha=1, n_estimators=1000, min_child_weight=6, max_depth=6, learning_rate=0.1, colsample_bytree=0.7, total=   7.7s\n",
      "[CV] reg_lambda=1, reg_alpha=1, n_estimators=4000, min_child_weight=6, max_depth=4, learning_rate=0.1, colsample_bytree=0.5 \n",
      "[CV]  reg_lambda=1, reg_alpha=1, n_estimators=4000, min_child_weight=6, max_depth=4, learning_rate=0.1, colsample_bytree=0.5, total=  15.7s\n",
      "[CV] reg_lambda=1, reg_alpha=1, n_estimators=4000, min_child_weight=6, max_depth=4, learning_rate=0.1, colsample_bytree=0.5 \n",
      "[CV]  reg_lambda=1, reg_alpha=1, n_estimators=4000, min_child_weight=6, max_depth=4, learning_rate=0.1, colsample_bytree=0.5, total=  15.6s\n",
      "[CV] reg_lambda=1, reg_alpha=1, n_estimators=4000, min_child_weight=6, max_depth=4, learning_rate=0.1, colsample_bytree=0.5 \n",
      "[CV]  reg_lambda=1, reg_alpha=1, n_estimators=4000, min_child_weight=6, max_depth=4, learning_rate=0.1, colsample_bytree=0.5, total=  17.4s\n",
      "[CV] reg_lambda=1, reg_alpha=1, n_estimators=4000, min_child_weight=6, max_depth=4, learning_rate=0.1, colsample_bytree=0.5 \n"
     ]
    },
    {
     "name": "stdout",
     "output_type": "stream",
     "text": [
      "[CV]  reg_lambda=1, reg_alpha=1, n_estimators=4000, min_child_weight=6, max_depth=4, learning_rate=0.1, colsample_bytree=0.5, total=  14.3s\n",
      "[CV] reg_lambda=1, reg_alpha=1, n_estimators=4000, min_child_weight=6, max_depth=4, learning_rate=0.1, colsample_bytree=0.5 \n",
      "[CV]  reg_lambda=1, reg_alpha=1, n_estimators=4000, min_child_weight=6, max_depth=4, learning_rate=0.1, colsample_bytree=0.5, total=  18.4s\n",
      "[CV] reg_lambda=1, reg_alpha=1, n_estimators=3000, min_child_weight=6, max_depth=5, learning_rate=0.1, colsample_bytree=0.5 \n",
      "[CV]  reg_lambda=1, reg_alpha=1, n_estimators=3000, min_child_weight=6, max_depth=5, learning_rate=0.1, colsample_bytree=0.5, total=  17.2s\n",
      "[CV] reg_lambda=1, reg_alpha=1, n_estimators=3000, min_child_weight=6, max_depth=5, learning_rate=0.1, colsample_bytree=0.5 \n",
      "[CV]  reg_lambda=1, reg_alpha=1, n_estimators=3000, min_child_weight=6, max_depth=5, learning_rate=0.1, colsample_bytree=0.5, total=  17.1s\n",
      "[CV] reg_lambda=1, reg_alpha=1, n_estimators=3000, min_child_weight=6, max_depth=5, learning_rate=0.1, colsample_bytree=0.5 \n",
      "[CV]  reg_lambda=1, reg_alpha=1, n_estimators=3000, min_child_weight=6, max_depth=5, learning_rate=0.1, colsample_bytree=0.5, total=  16.7s\n",
      "[CV] reg_lambda=1, reg_alpha=1, n_estimators=3000, min_child_weight=6, max_depth=5, learning_rate=0.1, colsample_bytree=0.5 \n",
      "[CV]  reg_lambda=1, reg_alpha=1, n_estimators=3000, min_child_weight=6, max_depth=5, learning_rate=0.1, colsample_bytree=0.5, total=  17.4s\n",
      "[CV] reg_lambda=1, reg_alpha=1, n_estimators=3000, min_child_weight=6, max_depth=5, learning_rate=0.1, colsample_bytree=0.5 \n",
      "[CV]  reg_lambda=1, reg_alpha=1, n_estimators=3000, min_child_weight=6, max_depth=5, learning_rate=0.1, colsample_bytree=0.5, total=  17.3s\n",
      "[CV] reg_lambda=0.01, reg_alpha=1, n_estimators=3000, min_child_weight=4, max_depth=5, learning_rate=0.1, colsample_bytree=0.7 \n",
      "[CV]  reg_lambda=0.01, reg_alpha=1, n_estimators=3000, min_child_weight=4, max_depth=5, learning_rate=0.1, colsample_bytree=0.7, total=  13.6s\n",
      "[CV] reg_lambda=0.01, reg_alpha=1, n_estimators=3000, min_child_weight=4, max_depth=5, learning_rate=0.1, colsample_bytree=0.7 \n",
      "[CV]  reg_lambda=0.01, reg_alpha=1, n_estimators=3000, min_child_weight=4, max_depth=5, learning_rate=0.1, colsample_bytree=0.7, total=  13.1s\n",
      "[CV] reg_lambda=0.01, reg_alpha=1, n_estimators=3000, min_child_weight=4, max_depth=5, learning_rate=0.1, colsample_bytree=0.7 \n",
      "[CV]  reg_lambda=0.01, reg_alpha=1, n_estimators=3000, min_child_weight=4, max_depth=5, learning_rate=0.1, colsample_bytree=0.7, total=  15.3s\n",
      "[CV] reg_lambda=0.01, reg_alpha=1, n_estimators=3000, min_child_weight=4, max_depth=5, learning_rate=0.1, colsample_bytree=0.7 \n",
      "[CV]  reg_lambda=0.01, reg_alpha=1, n_estimators=3000, min_child_weight=4, max_depth=5, learning_rate=0.1, colsample_bytree=0.7, total=  14.8s\n",
      "[CV] reg_lambda=0.01, reg_alpha=1, n_estimators=3000, min_child_weight=4, max_depth=5, learning_rate=0.1, colsample_bytree=0.7 \n",
      "[CV]  reg_lambda=0.01, reg_alpha=1, n_estimators=3000, min_child_weight=4, max_depth=5, learning_rate=0.1, colsample_bytree=0.7, total=  13.6s\n",
      "[CV] reg_lambda=0.0001, reg_alpha=1, n_estimators=4000, min_child_weight=5, max_depth=5, learning_rate=0.1, colsample_bytree=0.5 \n",
      "[CV]  reg_lambda=0.0001, reg_alpha=1, n_estimators=4000, min_child_weight=5, max_depth=5, learning_rate=0.1, colsample_bytree=0.5, total=  20.1s\n",
      "[CV] reg_lambda=0.0001, reg_alpha=1, n_estimators=4000, min_child_weight=5, max_depth=5, learning_rate=0.1, colsample_bytree=0.5 \n",
      "[CV]  reg_lambda=0.0001, reg_alpha=1, n_estimators=4000, min_child_weight=5, max_depth=5, learning_rate=0.1, colsample_bytree=0.5, total=  17.6s\n",
      "[CV] reg_lambda=0.0001, reg_alpha=1, n_estimators=4000, min_child_weight=5, max_depth=5, learning_rate=0.1, colsample_bytree=0.5 \n",
      "[CV]  reg_lambda=0.0001, reg_alpha=1, n_estimators=4000, min_child_weight=5, max_depth=5, learning_rate=0.1, colsample_bytree=0.5, total=  16.8s\n",
      "[CV] reg_lambda=0.0001, reg_alpha=1, n_estimators=4000, min_child_weight=5, max_depth=5, learning_rate=0.1, colsample_bytree=0.5 \n",
      "[CV]  reg_lambda=0.0001, reg_alpha=1, n_estimators=4000, min_child_weight=5, max_depth=5, learning_rate=0.1, colsample_bytree=0.5, total=  16.8s\n",
      "[CV] reg_lambda=0.0001, reg_alpha=1, n_estimators=4000, min_child_weight=5, max_depth=5, learning_rate=0.1, colsample_bytree=0.5 \n",
      "[CV]  reg_lambda=0.0001, reg_alpha=1, n_estimators=4000, min_child_weight=5, max_depth=5, learning_rate=0.1, colsample_bytree=0.5, total=  17.7s\n",
      "[CV] reg_lambda=0.01, reg_alpha=1, n_estimators=1000, min_child_weight=4, max_depth=4, learning_rate=0.1, colsample_bytree=0.7 \n",
      "[CV]  reg_lambda=0.01, reg_alpha=1, n_estimators=1000, min_child_weight=4, max_depth=4, learning_rate=0.1, colsample_bytree=0.7, total=   5.4s\n",
      "[CV] reg_lambda=0.01, reg_alpha=1, n_estimators=1000, min_child_weight=4, max_depth=4, learning_rate=0.1, colsample_bytree=0.7 \n",
      "[CV]  reg_lambda=0.01, reg_alpha=1, n_estimators=1000, min_child_weight=4, max_depth=4, learning_rate=0.1, colsample_bytree=0.7, total=   5.9s\n",
      "[CV] reg_lambda=0.01, reg_alpha=1, n_estimators=1000, min_child_weight=4, max_depth=4, learning_rate=0.1, colsample_bytree=0.7 \n",
      "[CV]  reg_lambda=0.01, reg_alpha=1, n_estimators=1000, min_child_weight=4, max_depth=4, learning_rate=0.1, colsample_bytree=0.7, total=   6.9s\n",
      "[CV] reg_lambda=0.01, reg_alpha=1, n_estimators=1000, min_child_weight=4, max_depth=4, learning_rate=0.1, colsample_bytree=0.7 \n",
      "[CV]  reg_lambda=0.01, reg_alpha=1, n_estimators=1000, min_child_weight=4, max_depth=4, learning_rate=0.1, colsample_bytree=0.7, total=   6.5s\n",
      "[CV] reg_lambda=0.01, reg_alpha=1, n_estimators=1000, min_child_weight=4, max_depth=4, learning_rate=0.1, colsample_bytree=0.7 \n",
      "[CV]  reg_lambda=0.01, reg_alpha=1, n_estimators=1000, min_child_weight=4, max_depth=4, learning_rate=0.1, colsample_bytree=0.7, total=   5.7s\n",
      "[CV] reg_lambda=1, reg_alpha=1, n_estimators=1000, min_child_weight=6, max_depth=4, learning_rate=0.1, colsample_bytree=0.5 \n",
      "[CV]  reg_lambda=1, reg_alpha=1, n_estimators=1000, min_child_weight=6, max_depth=4, learning_rate=0.1, colsample_bytree=0.5, total=   5.2s\n",
      "[CV] reg_lambda=1, reg_alpha=1, n_estimators=1000, min_child_weight=6, max_depth=4, learning_rate=0.1, colsample_bytree=0.5 \n",
      "[CV]  reg_lambda=1, reg_alpha=1, n_estimators=1000, min_child_weight=6, max_depth=4, learning_rate=0.1, colsample_bytree=0.5, total=   5.4s\n",
      "[CV] reg_lambda=1, reg_alpha=1, n_estimators=1000, min_child_weight=6, max_depth=4, learning_rate=0.1, colsample_bytree=0.5 \n",
      "[CV]  reg_lambda=1, reg_alpha=1, n_estimators=1000, min_child_weight=6, max_depth=4, learning_rate=0.1, colsample_bytree=0.5, total=   5.7s\n",
      "[CV] reg_lambda=1, reg_alpha=1, n_estimators=1000, min_child_weight=6, max_depth=4, learning_rate=0.1, colsample_bytree=0.5 \n",
      "[CV]  reg_lambda=1, reg_alpha=1, n_estimators=1000, min_child_weight=6, max_depth=4, learning_rate=0.1, colsample_bytree=0.5, total=   5.7s\n",
      "[CV] reg_lambda=1, reg_alpha=1, n_estimators=1000, min_child_weight=6, max_depth=4, learning_rate=0.1, colsample_bytree=0.5 \n",
      "[CV]  reg_lambda=1, reg_alpha=1, n_estimators=1000, min_child_weight=6, max_depth=4, learning_rate=0.1, colsample_bytree=0.5, total=   5.9s\n",
      "[CV] reg_lambda=0.01, reg_alpha=1, n_estimators=500, min_child_weight=4, max_depth=5, learning_rate=0.1, colsample_bytree=0.5 \n",
      "[CV]  reg_lambda=0.01, reg_alpha=1, n_estimators=500, min_child_weight=4, max_depth=5, learning_rate=0.1, colsample_bytree=0.5, total=   3.6s\n",
      "[CV] reg_lambda=0.01, reg_alpha=1, n_estimators=500, min_child_weight=4, max_depth=5, learning_rate=0.1, colsample_bytree=0.5 \n",
      "[CV]  reg_lambda=0.01, reg_alpha=1, n_estimators=500, min_child_weight=4, max_depth=5, learning_rate=0.1, colsample_bytree=0.5, total=   3.6s\n",
      "[CV] reg_lambda=0.01, reg_alpha=1, n_estimators=500, min_child_weight=4, max_depth=5, learning_rate=0.1, colsample_bytree=0.5 \n",
      "[CV]  reg_lambda=0.01, reg_alpha=1, n_estimators=500, min_child_weight=4, max_depth=5, learning_rate=0.1, colsample_bytree=0.5, total=   3.5s\n",
      "[CV] reg_lambda=0.01, reg_alpha=1, n_estimators=500, min_child_weight=4, max_depth=5, learning_rate=0.1, colsample_bytree=0.5 \n",
      "[CV]  reg_lambda=0.01, reg_alpha=1, n_estimators=500, min_child_weight=4, max_depth=5, learning_rate=0.1, colsample_bytree=0.5, total=   3.6s\n",
      "[CV] reg_lambda=0.01, reg_alpha=1, n_estimators=500, min_child_weight=4, max_depth=5, learning_rate=0.1, colsample_bytree=0.5 \n"
     ]
    },
    {
     "name": "stdout",
     "output_type": "stream",
     "text": [
      "[CV]  reg_lambda=0.01, reg_alpha=1, n_estimators=500, min_child_weight=4, max_depth=5, learning_rate=0.1, colsample_bytree=0.5, total=   3.7s\n",
      "[CV] reg_lambda=0.0001, reg_alpha=1, n_estimators=2000, min_child_weight=5, max_depth=4, learning_rate=0.1, colsample_bytree=0.5 \n",
      "[CV]  reg_lambda=0.0001, reg_alpha=1, n_estimators=2000, min_child_weight=5, max_depth=4, learning_rate=0.1, colsample_bytree=0.5, total=  10.5s\n",
      "[CV] reg_lambda=0.0001, reg_alpha=1, n_estimators=2000, min_child_weight=5, max_depth=4, learning_rate=0.1, colsample_bytree=0.5 \n",
      "[CV]  reg_lambda=0.0001, reg_alpha=1, n_estimators=2000, min_child_weight=5, max_depth=4, learning_rate=0.1, colsample_bytree=0.5, total=  11.0s\n",
      "[CV] reg_lambda=0.0001, reg_alpha=1, n_estimators=2000, min_child_weight=5, max_depth=4, learning_rate=0.1, colsample_bytree=0.5 \n",
      "[CV]  reg_lambda=0.0001, reg_alpha=1, n_estimators=2000, min_child_weight=5, max_depth=4, learning_rate=0.1, colsample_bytree=0.5, total=  10.0s\n",
      "[CV] reg_lambda=0.0001, reg_alpha=1, n_estimators=2000, min_child_weight=5, max_depth=4, learning_rate=0.1, colsample_bytree=0.5 \n",
      "[CV]  reg_lambda=0.0001, reg_alpha=1, n_estimators=2000, min_child_weight=5, max_depth=4, learning_rate=0.1, colsample_bytree=0.5, total=  10.1s\n",
      "[CV] reg_lambda=0.0001, reg_alpha=1, n_estimators=2000, min_child_weight=5, max_depth=4, learning_rate=0.1, colsample_bytree=0.5 \n",
      "[CV]  reg_lambda=0.0001, reg_alpha=1, n_estimators=2000, min_child_weight=5, max_depth=4, learning_rate=0.1, colsample_bytree=0.5, total=  10.3s\n",
      "[CV] reg_lambda=0.001, reg_alpha=1, n_estimators=4000, min_child_weight=6, max_depth=4, learning_rate=0.1, colsample_bytree=0.5 \n",
      "[CV]  reg_lambda=0.001, reg_alpha=1, n_estimators=4000, min_child_weight=6, max_depth=4, learning_rate=0.1, colsample_bytree=0.5, total=  16.4s\n",
      "[CV] reg_lambda=0.001, reg_alpha=1, n_estimators=4000, min_child_weight=6, max_depth=4, learning_rate=0.1, colsample_bytree=0.5 \n",
      "[CV]  reg_lambda=0.001, reg_alpha=1, n_estimators=4000, min_child_weight=6, max_depth=4, learning_rate=0.1, colsample_bytree=0.5, total=  17.7s\n",
      "[CV] reg_lambda=0.001, reg_alpha=1, n_estimators=4000, min_child_weight=6, max_depth=4, learning_rate=0.1, colsample_bytree=0.5 \n",
      "[CV]  reg_lambda=0.001, reg_alpha=1, n_estimators=4000, min_child_weight=6, max_depth=4, learning_rate=0.1, colsample_bytree=0.5, total=  15.1s\n",
      "[CV] reg_lambda=0.001, reg_alpha=1, n_estimators=4000, min_child_weight=6, max_depth=4, learning_rate=0.1, colsample_bytree=0.5 \n",
      "[CV]  reg_lambda=0.001, reg_alpha=1, n_estimators=4000, min_child_weight=6, max_depth=4, learning_rate=0.1, colsample_bytree=0.5, total=  15.7s\n",
      "[CV] reg_lambda=0.001, reg_alpha=1, n_estimators=4000, min_child_weight=6, max_depth=4, learning_rate=0.1, colsample_bytree=0.5 \n",
      "[CV]  reg_lambda=0.001, reg_alpha=1, n_estimators=4000, min_child_weight=6, max_depth=4, learning_rate=0.1, colsample_bytree=0.5, total=  17.6s\n",
      "[CV] reg_lambda=0.001, reg_alpha=1, n_estimators=500, min_child_weight=4, max_depth=5, learning_rate=0.1, colsample_bytree=0.5 \n",
      "[CV]  reg_lambda=0.001, reg_alpha=1, n_estimators=500, min_child_weight=4, max_depth=5, learning_rate=0.1, colsample_bytree=0.5, total=   3.3s\n",
      "[CV] reg_lambda=0.001, reg_alpha=1, n_estimators=500, min_child_weight=4, max_depth=5, learning_rate=0.1, colsample_bytree=0.5 \n",
      "[CV]  reg_lambda=0.001, reg_alpha=1, n_estimators=500, min_child_weight=4, max_depth=5, learning_rate=0.1, colsample_bytree=0.5, total=   3.4s\n",
      "[CV] reg_lambda=0.001, reg_alpha=1, n_estimators=500, min_child_weight=4, max_depth=5, learning_rate=0.1, colsample_bytree=0.5 \n",
      "[CV]  reg_lambda=0.001, reg_alpha=1, n_estimators=500, min_child_weight=4, max_depth=5, learning_rate=0.1, colsample_bytree=0.5, total=   3.5s\n",
      "[CV] reg_lambda=0.001, reg_alpha=1, n_estimators=500, min_child_weight=4, max_depth=5, learning_rate=0.1, colsample_bytree=0.5 \n",
      "[CV]  reg_lambda=0.001, reg_alpha=1, n_estimators=500, min_child_weight=4, max_depth=5, learning_rate=0.1, colsample_bytree=0.5, total=   3.4s\n",
      "[CV] reg_lambda=0.001, reg_alpha=1, n_estimators=500, min_child_weight=4, max_depth=5, learning_rate=0.1, colsample_bytree=0.5 \n",
      "[CV]  reg_lambda=0.001, reg_alpha=1, n_estimators=500, min_child_weight=4, max_depth=5, learning_rate=0.1, colsample_bytree=0.5, total=   3.2s\n",
      "[CV] reg_lambda=0.001, reg_alpha=1, n_estimators=4000, min_child_weight=5, max_depth=6, learning_rate=0.1, colsample_bytree=0.7 \n",
      "[CV]  reg_lambda=0.001, reg_alpha=1, n_estimators=4000, min_child_weight=5, max_depth=6, learning_rate=0.1, colsample_bytree=0.7, total=  18.8s\n",
      "[CV] reg_lambda=0.001, reg_alpha=1, n_estimators=4000, min_child_weight=5, max_depth=6, learning_rate=0.1, colsample_bytree=0.7 \n",
      "[CV]  reg_lambda=0.001, reg_alpha=1, n_estimators=4000, min_child_weight=5, max_depth=6, learning_rate=0.1, colsample_bytree=0.7, total=  19.4s\n",
      "[CV] reg_lambda=0.001, reg_alpha=1, n_estimators=4000, min_child_weight=5, max_depth=6, learning_rate=0.1, colsample_bytree=0.7 \n",
      "[CV]  reg_lambda=0.001, reg_alpha=1, n_estimators=4000, min_child_weight=5, max_depth=6, learning_rate=0.1, colsample_bytree=0.7, total=  17.6s\n",
      "[CV] reg_lambda=0.001, reg_alpha=1, n_estimators=4000, min_child_weight=5, max_depth=6, learning_rate=0.1, colsample_bytree=0.7 \n",
      "[CV]  reg_lambda=0.001, reg_alpha=1, n_estimators=4000, min_child_weight=5, max_depth=6, learning_rate=0.1, colsample_bytree=0.7, total=  17.9s\n",
      "[CV] reg_lambda=0.001, reg_alpha=1, n_estimators=4000, min_child_weight=5, max_depth=6, learning_rate=0.1, colsample_bytree=0.7 \n",
      "[CV]  reg_lambda=0.001, reg_alpha=1, n_estimators=4000, min_child_weight=5, max_depth=6, learning_rate=0.1, colsample_bytree=0.7, total=  19.5s\n",
      "[CV] reg_lambda=0.0001, reg_alpha=1, n_estimators=1000, min_child_weight=4, max_depth=4, learning_rate=0.1, colsample_bytree=0.5 \n",
      "[CV]  reg_lambda=0.0001, reg_alpha=1, n_estimators=1000, min_child_weight=4, max_depth=4, learning_rate=0.1, colsample_bytree=0.5, total=   5.5s\n",
      "[CV] reg_lambda=0.0001, reg_alpha=1, n_estimators=1000, min_child_weight=4, max_depth=4, learning_rate=0.1, colsample_bytree=0.5 \n",
      "[CV]  reg_lambda=0.0001, reg_alpha=1, n_estimators=1000, min_child_weight=4, max_depth=4, learning_rate=0.1, colsample_bytree=0.5, total=   5.3s\n",
      "[CV] reg_lambda=0.0001, reg_alpha=1, n_estimators=1000, min_child_weight=4, max_depth=4, learning_rate=0.1, colsample_bytree=0.5 \n",
      "[CV]  reg_lambda=0.0001, reg_alpha=1, n_estimators=1000, min_child_weight=4, max_depth=4, learning_rate=0.1, colsample_bytree=0.5, total=   5.1s\n",
      "[CV] reg_lambda=0.0001, reg_alpha=1, n_estimators=1000, min_child_weight=4, max_depth=4, learning_rate=0.1, colsample_bytree=0.5 \n",
      "[CV]  reg_lambda=0.0001, reg_alpha=1, n_estimators=1000, min_child_weight=4, max_depth=4, learning_rate=0.1, colsample_bytree=0.5, total=   5.0s\n",
      "[CV] reg_lambda=0.0001, reg_alpha=1, n_estimators=1000, min_child_weight=4, max_depth=4, learning_rate=0.1, colsample_bytree=0.5 \n",
      "[CV]  reg_lambda=0.0001, reg_alpha=1, n_estimators=1000, min_child_weight=4, max_depth=4, learning_rate=0.1, colsample_bytree=0.5, total=   5.5s\n",
      "[CV] reg_lambda=0.001, reg_alpha=1, n_estimators=2000, min_child_weight=5, max_depth=5, learning_rate=0.1, colsample_bytree=0.5 \n",
      "[CV]  reg_lambda=0.001, reg_alpha=1, n_estimators=2000, min_child_weight=5, max_depth=5, learning_rate=0.1, colsample_bytree=0.5, total=  10.8s\n",
      "[CV] reg_lambda=0.001, reg_alpha=1, n_estimators=2000, min_child_weight=5, max_depth=5, learning_rate=0.1, colsample_bytree=0.5 \n",
      "[CV]  reg_lambda=0.001, reg_alpha=1, n_estimators=2000, min_child_weight=5, max_depth=5, learning_rate=0.1, colsample_bytree=0.5, total=  11.6s\n",
      "[CV] reg_lambda=0.001, reg_alpha=1, n_estimators=2000, min_child_weight=5, max_depth=5, learning_rate=0.1, colsample_bytree=0.5 \n",
      "[CV]  reg_lambda=0.001, reg_alpha=1, n_estimators=2000, min_child_weight=5, max_depth=5, learning_rate=0.1, colsample_bytree=0.5, total=  12.6s\n",
      "[CV] reg_lambda=0.001, reg_alpha=1, n_estimators=2000, min_child_weight=5, max_depth=5, learning_rate=0.1, colsample_bytree=0.5 \n",
      "[CV]  reg_lambda=0.001, reg_alpha=1, n_estimators=2000, min_child_weight=5, max_depth=5, learning_rate=0.1, colsample_bytree=0.5, total=  11.2s\n",
      "[CV] reg_lambda=0.001, reg_alpha=1, n_estimators=2000, min_child_weight=5, max_depth=5, learning_rate=0.1, colsample_bytree=0.5 \n"
     ]
    },
    {
     "name": "stdout",
     "output_type": "stream",
     "text": [
      "[CV]  reg_lambda=0.001, reg_alpha=1, n_estimators=2000, min_child_weight=5, max_depth=5, learning_rate=0.1, colsample_bytree=0.5, total=  10.9s\n",
      "[CV] reg_lambda=0.0001, reg_alpha=1, n_estimators=4000, min_child_weight=5, max_depth=6, learning_rate=0.1, colsample_bytree=0.7 \n",
      "[CV]  reg_lambda=0.0001, reg_alpha=1, n_estimators=4000, min_child_weight=5, max_depth=6, learning_rate=0.1, colsample_bytree=0.7, total=  21.0s\n",
      "[CV] reg_lambda=0.0001, reg_alpha=1, n_estimators=4000, min_child_weight=5, max_depth=6, learning_rate=0.1, colsample_bytree=0.7 \n",
      "[CV]  reg_lambda=0.0001, reg_alpha=1, n_estimators=4000, min_child_weight=5, max_depth=6, learning_rate=0.1, colsample_bytree=0.7, total=  22.3s\n",
      "[CV] reg_lambda=0.0001, reg_alpha=1, n_estimators=4000, min_child_weight=5, max_depth=6, learning_rate=0.1, colsample_bytree=0.7 \n",
      "[CV]  reg_lambda=0.0001, reg_alpha=1, n_estimators=4000, min_child_weight=5, max_depth=6, learning_rate=0.1, colsample_bytree=0.7, total=  18.4s\n",
      "[CV] reg_lambda=0.0001, reg_alpha=1, n_estimators=4000, min_child_weight=5, max_depth=6, learning_rate=0.1, colsample_bytree=0.7 \n",
      "[CV]  reg_lambda=0.0001, reg_alpha=1, n_estimators=4000, min_child_weight=5, max_depth=6, learning_rate=0.1, colsample_bytree=0.7, total=  18.5s\n",
      "[CV] reg_lambda=0.0001, reg_alpha=1, n_estimators=4000, min_child_weight=5, max_depth=6, learning_rate=0.1, colsample_bytree=0.7 \n",
      "[CV]  reg_lambda=0.0001, reg_alpha=1, n_estimators=4000, min_child_weight=5, max_depth=6, learning_rate=0.1, colsample_bytree=0.7, total=  19.4s\n",
      "[CV] reg_lambda=0.01, reg_alpha=1, n_estimators=4000, min_child_weight=4, max_depth=6, learning_rate=0.1, colsample_bytree=0.7 \n",
      "[CV]  reg_lambda=0.01, reg_alpha=1, n_estimators=4000, min_child_weight=4, max_depth=6, learning_rate=0.1, colsample_bytree=0.7, total=  18.3s\n",
      "[CV] reg_lambda=0.01, reg_alpha=1, n_estimators=4000, min_child_weight=4, max_depth=6, learning_rate=0.1, colsample_bytree=0.7 \n",
      "[CV]  reg_lambda=0.01, reg_alpha=1, n_estimators=4000, min_child_weight=4, max_depth=6, learning_rate=0.1, colsample_bytree=0.7, total=  20.0s\n",
      "[CV] reg_lambda=0.01, reg_alpha=1, n_estimators=4000, min_child_weight=4, max_depth=6, learning_rate=0.1, colsample_bytree=0.7 \n",
      "[CV]  reg_lambda=0.01, reg_alpha=1, n_estimators=4000, min_child_weight=4, max_depth=6, learning_rate=0.1, colsample_bytree=0.7, total=  21.1s\n",
      "[CV] reg_lambda=0.01, reg_alpha=1, n_estimators=4000, min_child_weight=4, max_depth=6, learning_rate=0.1, colsample_bytree=0.7 \n",
      "[CV]  reg_lambda=0.01, reg_alpha=1, n_estimators=4000, min_child_weight=4, max_depth=6, learning_rate=0.1, colsample_bytree=0.7, total=  25.8s\n",
      "[CV] reg_lambda=0.01, reg_alpha=1, n_estimators=4000, min_child_weight=4, max_depth=6, learning_rate=0.1, colsample_bytree=0.7 \n",
      "[CV]  reg_lambda=0.01, reg_alpha=1, n_estimators=4000, min_child_weight=4, max_depth=6, learning_rate=0.1, colsample_bytree=0.7, total=  19.3s\n",
      "[CV] reg_lambda=0.01, reg_alpha=1, n_estimators=2000, min_child_weight=6, max_depth=4, learning_rate=0.1, colsample_bytree=0.7 \n",
      "[CV]  reg_lambda=0.01, reg_alpha=1, n_estimators=2000, min_child_weight=6, max_depth=4, learning_rate=0.1, colsample_bytree=0.7, total=  10.1s\n",
      "[CV] reg_lambda=0.01, reg_alpha=1, n_estimators=2000, min_child_weight=6, max_depth=4, learning_rate=0.1, colsample_bytree=0.7 \n",
      "[CV]  reg_lambda=0.01, reg_alpha=1, n_estimators=2000, min_child_weight=6, max_depth=4, learning_rate=0.1, colsample_bytree=0.7, total=  11.5s\n",
      "[CV] reg_lambda=0.01, reg_alpha=1, n_estimators=2000, min_child_weight=6, max_depth=4, learning_rate=0.1, colsample_bytree=0.7 \n",
      "[CV]  reg_lambda=0.01, reg_alpha=1, n_estimators=2000, min_child_weight=6, max_depth=4, learning_rate=0.1, colsample_bytree=0.7, total=  10.0s\n",
      "[CV] reg_lambda=0.01, reg_alpha=1, n_estimators=2000, min_child_weight=6, max_depth=4, learning_rate=0.1, colsample_bytree=0.7 \n",
      "[CV]  reg_lambda=0.01, reg_alpha=1, n_estimators=2000, min_child_weight=6, max_depth=4, learning_rate=0.1, colsample_bytree=0.7, total=  10.3s\n",
      "[CV] reg_lambda=0.01, reg_alpha=1, n_estimators=2000, min_child_weight=6, max_depth=4, learning_rate=0.1, colsample_bytree=0.7 \n",
      "[CV]  reg_lambda=0.01, reg_alpha=1, n_estimators=2000, min_child_weight=6, max_depth=4, learning_rate=0.1, colsample_bytree=0.7, total=   8.0s\n",
      "[CV] reg_lambda=0.8, reg_alpha=1, n_estimators=2000, min_child_weight=6, max_depth=5, learning_rate=0.1, colsample_bytree=0.5 \n",
      "[CV]  reg_lambda=0.8, reg_alpha=1, n_estimators=2000, min_child_weight=6, max_depth=5, learning_rate=0.1, colsample_bytree=0.5, total=  11.6s\n",
      "[CV] reg_lambda=0.8, reg_alpha=1, n_estimators=2000, min_child_weight=6, max_depth=5, learning_rate=0.1, colsample_bytree=0.5 \n",
      "[CV]  reg_lambda=0.8, reg_alpha=1, n_estimators=2000, min_child_weight=6, max_depth=5, learning_rate=0.1, colsample_bytree=0.5, total=  11.7s\n",
      "[CV] reg_lambda=0.8, reg_alpha=1, n_estimators=2000, min_child_weight=6, max_depth=5, learning_rate=0.1, colsample_bytree=0.5 \n",
      "[CV]  reg_lambda=0.8, reg_alpha=1, n_estimators=2000, min_child_weight=6, max_depth=5, learning_rate=0.1, colsample_bytree=0.5, total=  12.2s\n",
      "[CV] reg_lambda=0.8, reg_alpha=1, n_estimators=2000, min_child_weight=6, max_depth=5, learning_rate=0.1, colsample_bytree=0.5 \n",
      "[CV]  reg_lambda=0.8, reg_alpha=1, n_estimators=2000, min_child_weight=6, max_depth=5, learning_rate=0.1, colsample_bytree=0.5, total=  14.3s\n",
      "[CV] reg_lambda=0.8, reg_alpha=1, n_estimators=2000, min_child_weight=6, max_depth=5, learning_rate=0.1, colsample_bytree=0.5 \n",
      "[CV]  reg_lambda=0.8, reg_alpha=1, n_estimators=2000, min_child_weight=6, max_depth=5, learning_rate=0.1, colsample_bytree=0.5, total=  15.1s\n",
      "[CV] reg_lambda=1, reg_alpha=1, n_estimators=2000, min_child_weight=6, max_depth=6, learning_rate=0.1, colsample_bytree=0.5 \n",
      "[CV]  reg_lambda=1, reg_alpha=1, n_estimators=2000, min_child_weight=6, max_depth=6, learning_rate=0.1, colsample_bytree=0.5, total=  14.5s\n",
      "[CV] reg_lambda=1, reg_alpha=1, n_estimators=2000, min_child_weight=6, max_depth=6, learning_rate=0.1, colsample_bytree=0.5 \n",
      "[CV]  reg_lambda=1, reg_alpha=1, n_estimators=2000, min_child_weight=6, max_depth=6, learning_rate=0.1, colsample_bytree=0.5, total=  13.8s\n",
      "[CV] reg_lambda=1, reg_alpha=1, n_estimators=2000, min_child_weight=6, max_depth=6, learning_rate=0.1, colsample_bytree=0.5 \n",
      "[CV]  reg_lambda=1, reg_alpha=1, n_estimators=2000, min_child_weight=6, max_depth=6, learning_rate=0.1, colsample_bytree=0.5, total=  13.6s\n",
      "[CV] reg_lambda=1, reg_alpha=1, n_estimators=2000, min_child_weight=6, max_depth=6, learning_rate=0.1, colsample_bytree=0.5 \n",
      "[CV]  reg_lambda=1, reg_alpha=1, n_estimators=2000, min_child_weight=6, max_depth=6, learning_rate=0.1, colsample_bytree=0.5, total=  14.1s\n",
      "[CV] reg_lambda=1, reg_alpha=1, n_estimators=2000, min_child_weight=6, max_depth=6, learning_rate=0.1, colsample_bytree=0.5 \n",
      "[CV]  reg_lambda=1, reg_alpha=1, n_estimators=2000, min_child_weight=6, max_depth=6, learning_rate=0.1, colsample_bytree=0.5, total=  13.0s\n"
     ]
    },
    {
     "name": "stderr",
     "output_type": "stream",
     "text": [
      "[Parallel(n_jobs=1)]: Done 150 out of 150 | elapsed: 31.3min finished\n"
     ]
    },
    {
     "name": "stdout",
     "output_type": "stream",
     "text": [
      "XGBClassifier(base_score=0.5, booster='gbtree', colsample_bylevel=1,\n",
      "              colsample_bynode=1, colsample_bytree=0.7, gamma=0, gpu_id=-1,\n",
      "              importance_type='gain', interaction_constraints='',\n",
      "              learning_rate=0.1, max_delta_step=0, max_depth=5,\n",
      "              min_child_weight=5, missing=nan, monotone_constraints='()',\n",
      "              n_estimators=500, n_jobs=0, num_parallel_tree=1, random_state=0,\n",
      "              reg_alpha=1, reg_lambda=1, scale_pos_weight=1, subsample=1,\n",
      "              tree_method='exact', validate_parameters=1, verbosity=None)\n",
      "0.9411964029714583\n"
     ]
    }
   ],
   "source": [
    "xgb_cv_model_2 = RandomizedSearchCV(estimator = xgb_clf, param_distributions=xgb_param2, \n",
    "                                  n_iter = 30, cv = 5, \n",
    "                                  verbose=2, random_state=42)\n",
    "\n",
    "xgb_cv_model_2.fit(X_train,y_train)\n",
    "print(xgb_cv_model_2.best_estimator_)\n",
    "print(xgb_cv_model_2.best_score_)"
   ]
  },
  {
   "cell_type": "code",
   "execution_count": 164,
   "metadata": {},
   "outputs": [
    {
     "name": "stdout",
     "output_type": "stream",
     "text": [
      "XGBClassifier(base_score=0.5, booster='gbtree', colsample_bylevel=1,\n",
      "              colsample_bynode=1, colsample_bytree=0.7, gamma=0, gpu_id=-1,\n",
      "              importance_type='gain', interaction_constraints='',\n",
      "              learning_rate=0.1, max_delta_step=0, max_depth=5,\n",
      "              min_child_weight=5, missing=nan, monotone_constraints='()',\n",
      "              n_estimators=500, n_jobs=0, num_parallel_tree=1, random_state=0,\n",
      "              reg_alpha=1, reg_lambda=1, scale_pos_weight=1, subsample=1,\n",
      "              tree_method='exact', validate_parameters=1, verbosity=None)\n",
      "0.9411964029714583\n"
     ]
    }
   ],
   "source": [
    "print(xgb_cv_model_2.best_estimator_)\n",
    "print(xgb_cv_model_2.best_score_)"
   ]
  },
  {
   "cell_type": "code",
   "execution_count": 165,
   "metadata": {},
   "outputs": [],
   "source": [
    "xgb_clf_model_3 = xgb.XGBClassifier(base_score=0.5, booster='gbtree', colsample_bylevel=1,\n",
    "              colsample_bynode=1, colsample_bytree=0.7, gamma=0, gpu_id=-1,\n",
    "              importance_type='gain',  learning_rate=0.1, max_delta_step=0, max_depth=5,\n",
    "              min_child_weight=5, n_estimators=500, n_jobs=0, num_parallel_tree=1, random_state=0,\n",
    "              reg_alpha=1, reg_lambda=1, scale_pos_weight=1, subsample=1,\n",
    "              tree_method='exact', validate_parameters=1, verbosity=None)\n",
    "xgb_clf_model_3.fit(X_train,y_train)\n",
    "xgb_clf_model_3_preds = xgb_clf_model_3.predict(X_test)"
   ]
  },
  {
   "cell_type": "code",
   "execution_count": 167,
   "metadata": {},
   "outputs": [
    {
     "name": "stdout",
     "output_type": "stream",
     "text": [
      "0.5107951553449184\n"
     ]
    }
   ],
   "source": [
    "print(f1_score(y_test, xgb_clf_model_3_preds))"
   ]
  },
  {
   "cell_type": "code",
   "execution_count": 169,
   "metadata": {},
   "outputs": [
    {
     "data": {
      "image/png": "[encoded data removed]",
      "text/plain": [
       "<Figure size 720x504 with 2 Axes>"
      ]
     },
     "metadata": {
      "needs_background": "light"
     },
     "output_type": "display_data"
    }
   ],
   "source": [
    "generate_confusion_matrix(confusion_matrix(y_test, xgb_clf_model_3_preds))"
   ]
  },
  {
   "cell_type": "code",
   "execution_count": 170,
   "metadata": {},
   "outputs": [],
   "source": [
    "#random forest cv model picklet\n",
    "pickle.dump(xgb_clf_model_3, open('xgb_clf_model_3.pkl', 'wb'))"
   ]
  },
  {
   "cell_type": "markdown",
   "metadata": {},
   "source": [
    "# Stacking"
   ]
  },
  {
   "cell_type": "code",
   "execution_count": 185,
   "metadata": {},
   "outputs": [],
   "source": [
    "from mlxtend.classifier import StackingClassifier"
   ]
  },
  {
   "cell_type": "code",
   "execution_count": 187,
   "metadata": {},
   "outputs": [],
   "source": [
    "stack_clf = StackingClassifier(classifiers=[xgb_clf_model_3,rf_rscv_model_1], \n",
    "                           meta_classifier=xgb_clf, use_features_in_secondary=True)"
   ]
  },
  {
   "cell_type": "code",
   "execution_count": 188,
   "metadata": {},
   "outputs": [],
   "source": [
    "stack_clf_model =stack_clf.fit(X_train, y_train.ravel())\n",
    "stacking_preds = stack_clf_model.predict(X_test)"
   ]
  },
  {
   "cell_type": "code",
   "execution_count": 189,
   "metadata": {},
   "outputs": [
    {
     "name": "stdout",
     "output_type": "stream",
     "text": [
      "0.5042105263157894\n"
     ]
    }
   ],
   "source": [
    "print(f1_score(y_test, stacking_preds))"
   ]
  },
  {
   "cell_type": "code",
   "execution_count": 190,
   "metadata": {},
   "outputs": [
    {
     "data": {
      "image/png": "[encoded data removed]",
      "text/plain": [
       "<Figure size 720x504 with 2 Axes>"
      ]
     },
     "metadata": {
      "needs_background": "light"
     },
     "output_type": "display_data"
    }
   ],
   "source": [
    "generate_confusion_matrix(confusion_matrix(y_test, stacking_preds))"
   ]
  },
  {
   "cell_type": "markdown",
   "metadata": {},
   "source": [
    "# Inference"
   ]
  },
  {
   "cell_type": "code",
   "execution_count": 191,
   "metadata": {},
   "outputs": [
    {
     "data": {
      "text/html": [
       "<div>\n",
       "<style scoped>\n",
       "    .dataframe tbody tr th:only-of-type {\n",
       "        vertical-align: middle;\n",
       "    }\n",
       "\n",
       "    .dataframe tbody tr th {\n",
       "        vertical-align: top;\n",
       "    }\n",
       "\n",
       "    .dataframe thead th {\n",
       "        text-align: right;\n",
       "    }\n",
       "</style>\n",
       "<table border=\"1\" class=\"dataframe\">\n",
       "  <thead>\n",
       "    <tr style=\"text-align: right;\">\n",
       "      <th></th>\n",
       "      <th>department</th>\n",
       "      <th>education</th>\n",
       "      <th>no_of_trainings</th>\n",
       "      <th>age</th>\n",
       "      <th>previous_year_rating</th>\n",
       "      <th>length_of_service</th>\n",
       "      <th>KPIs_met &gt;80%</th>\n",
       "      <th>awards_won?</th>\n",
       "      <th>avg_training_score</th>\n",
       "      <th>gender_m</th>\n",
       "      <th>age_grp</th>\n",
       "    </tr>\n",
       "  </thead>\n",
       "  <tbody>\n",
       "    <tr>\n",
       "      <th>0</th>\n",
       "      <td>3</td>\n",
       "      <td>2</td>\n",
       "      <td>1</td>\n",
       "      <td>24</td>\n",
       "      <td>3.332219</td>\n",
       "      <td>1</td>\n",
       "      <td>1</td>\n",
       "      <td>0</td>\n",
       "      <td>77</td>\n",
       "      <td>1</td>\n",
       "      <td>20</td>\n",
       "    </tr>\n",
       "    <tr>\n",
       "      <th>1</th>\n",
       "      <td>8</td>\n",
       "      <td>2</td>\n",
       "      <td>1</td>\n",
       "      <td>31</td>\n",
       "      <td>3.000000</td>\n",
       "      <td>5</td>\n",
       "      <td>0</td>\n",
       "      <td>0</td>\n",
       "      <td>51</td>\n",
       "      <td>0</td>\n",
       "      <td>30</td>\n",
       "    </tr>\n",
       "    <tr>\n",
       "      <th>2</th>\n",
       "      <td>1</td>\n",
       "      <td>2</td>\n",
       "      <td>1</td>\n",
       "      <td>31</td>\n",
       "      <td>1.000000</td>\n",
       "      <td>4</td>\n",
       "      <td>0</td>\n",
       "      <td>0</td>\n",
       "      <td>47</td>\n",
       "      <td>1</td>\n",
       "      <td>30</td>\n",
       "    </tr>\n",
       "    <tr>\n",
       "      <th>3</th>\n",
       "      <td>6</td>\n",
       "      <td>2</td>\n",
       "      <td>3</td>\n",
       "      <td>31</td>\n",
       "      <td>2.000000</td>\n",
       "      <td>9</td>\n",
       "      <td>0</td>\n",
       "      <td>0</td>\n",
       "      <td>65</td>\n",
       "      <td>0</td>\n",
       "      <td>30</td>\n",
       "    </tr>\n",
       "    <tr>\n",
       "      <th>4</th>\n",
       "      <td>7</td>\n",
       "      <td>2</td>\n",
       "      <td>1</td>\n",
       "      <td>30</td>\n",
       "      <td>4.000000</td>\n",
       "      <td>7</td>\n",
       "      <td>0</td>\n",
       "      <td>0</td>\n",
       "      <td>61</td>\n",
       "      <td>1</td>\n",
       "      <td>20</td>\n",
       "    </tr>\n",
       "  </tbody>\n",
       "</table>\n",
       "</div>"
      ],
      "text/plain": [
       "   department  education  no_of_trainings  age  previous_year_rating  \\\n",
       "0           3          2                1   24              3.332219   \n",
       "1           8          2                1   31              3.000000   \n",
       "2           1          2                1   31              1.000000   \n",
       "3           6          2                3   31              2.000000   \n",
       "4           7          2                1   30              4.000000   \n",
       "\n",
       "   length_of_service  KPIs_met >80%  awards_won?  avg_training_score  \\\n",
       "0                  1              1            0                  77   \n",
       "1                  5              0            0                  51   \n",
       "2                  4              0            0                  47   \n",
       "3                  9              0            0                  65   \n",
       "4                  7              0            0                  61   \n",
       "\n",
       "   gender_m  age_grp  \n",
       "0         1       20  \n",
       "1         0       30  \n",
       "2         1       30  \n",
       "3         0       30  \n",
       "4         1       20  "
      ]
     },
     "execution_count": 191,
     "metadata": {},
     "output_type": "execute_result"
    }
   ],
   "source": [
    "Test_Data.head()"
   ]
  },
  {
   "cell_type": "markdown",
   "metadata": {},
   "source": [
    "### XGBoost Inference"
   ]
  },
  {
   "cell_type": "code",
   "execution_count": 194,
   "metadata": {},
   "outputs": [],
   "source": [
    "test_xgb_preds = xgb_clf_model_3.predict(Test_Data)\n",
    "x = b.copy()"
   ]
  },
  {
   "cell_type": "code",
   "execution_count": 195,
   "metadata": {},
   "outputs": [
    {
     "data": {
      "text/html": [
       "<div>\n",
       "<style scoped>\n",
       "    .dataframe tbody tr th:only-of-type {\n",
       "        vertical-align: middle;\n",
       "    }\n",
       "\n",
       "    .dataframe tbody tr th {\n",
       "        vertical-align: top;\n",
       "    }\n",
       "\n",
       "    .dataframe thead th {\n",
       "        text-align: right;\n",
       "    }\n",
       "</style>\n",
       "<table border=\"1\" class=\"dataframe\">\n",
       "  <thead>\n",
       "    <tr style=\"text-align: right;\">\n",
       "      <th></th>\n",
       "      <th>employee_id</th>\n",
       "      <th>department</th>\n",
       "      <th>region</th>\n",
       "      <th>education</th>\n",
       "      <th>gender</th>\n",
       "      <th>recruitment_channel</th>\n",
       "      <th>no_of_trainings</th>\n",
       "      <th>age</th>\n",
       "      <th>previous_year_rating</th>\n",
       "      <th>length_of_service</th>\n",
       "      <th>KPIs_met &gt;80%</th>\n",
       "      <th>awards_won?</th>\n",
       "      <th>avg_training_score</th>\n",
       "      <th>is_promoted</th>\n",
       "    </tr>\n",
       "  </thead>\n",
       "  <tbody>\n",
       "    <tr>\n",
       "      <th>0</th>\n",
       "      <td>8724</td>\n",
       "      <td>Technology</td>\n",
       "      <td>region_26</td>\n",
       "      <td>Bachelor's</td>\n",
       "      <td>m</td>\n",
       "      <td>sourcing</td>\n",
       "      <td>1</td>\n",
       "      <td>24</td>\n",
       "      <td>NaN</td>\n",
       "      <td>1</td>\n",
       "      <td>1</td>\n",
       "      <td>0</td>\n",
       "      <td>77</td>\n",
       "      <td>0.0</td>\n",
       "    </tr>\n",
       "    <tr>\n",
       "      <th>1</th>\n",
       "      <td>74430</td>\n",
       "      <td>HR</td>\n",
       "      <td>region_4</td>\n",
       "      <td>Bachelor's</td>\n",
       "      <td>f</td>\n",
       "      <td>other</td>\n",
       "      <td>1</td>\n",
       "      <td>31</td>\n",
       "      <td>3.0</td>\n",
       "      <td>5</td>\n",
       "      <td>0</td>\n",
       "      <td>0</td>\n",
       "      <td>51</td>\n",
       "      <td>0.0</td>\n",
       "    </tr>\n",
       "    <tr>\n",
       "      <th>2</th>\n",
       "      <td>72255</td>\n",
       "      <td>Sales &amp; Marketing</td>\n",
       "      <td>region_13</td>\n",
       "      <td>Bachelor's</td>\n",
       "      <td>m</td>\n",
       "      <td>other</td>\n",
       "      <td>1</td>\n",
       "      <td>31</td>\n",
       "      <td>1.0</td>\n",
       "      <td>4</td>\n",
       "      <td>0</td>\n",
       "      <td>0</td>\n",
       "      <td>47</td>\n",
       "      <td>0.0</td>\n",
       "    </tr>\n",
       "    <tr>\n",
       "      <th>3</th>\n",
       "      <td>38562</td>\n",
       "      <td>Procurement</td>\n",
       "      <td>region_2</td>\n",
       "      <td>Bachelor's</td>\n",
       "      <td>f</td>\n",
       "      <td>other</td>\n",
       "      <td>3</td>\n",
       "      <td>31</td>\n",
       "      <td>2.0</td>\n",
       "      <td>9</td>\n",
       "      <td>0</td>\n",
       "      <td>0</td>\n",
       "      <td>65</td>\n",
       "      <td>0.0</td>\n",
       "    </tr>\n",
       "    <tr>\n",
       "      <th>4</th>\n",
       "      <td>64486</td>\n",
       "      <td>Finance</td>\n",
       "      <td>region_29</td>\n",
       "      <td>Bachelor's</td>\n",
       "      <td>m</td>\n",
       "      <td>sourcing</td>\n",
       "      <td>1</td>\n",
       "      <td>30</td>\n",
       "      <td>4.0</td>\n",
       "      <td>7</td>\n",
       "      <td>0</td>\n",
       "      <td>0</td>\n",
       "      <td>61</td>\n",
       "      <td>0.0</td>\n",
       "    </tr>\n",
       "  </tbody>\n",
       "</table>\n",
       "</div>"
      ],
      "text/plain": [
       "   employee_id         department     region   education gender  \\\n",
       "0         8724         Technology  region_26  Bachelor's      m   \n",
       "1        74430                 HR   region_4  Bachelor's      f   \n",
       "2        72255  Sales & Marketing  region_13  Bachelor's      m   \n",
       "3        38562        Procurement   region_2  Bachelor's      f   \n",
       "4        64486            Finance  region_29  Bachelor's      m   \n",
       "\n",
       "  recruitment_channel  no_of_trainings  age  previous_year_rating  \\\n",
       "0            sourcing                1   24                   NaN   \n",
       "1               other                1   31                   3.0   \n",
       "2               other                1   31                   1.0   \n",
       "3               other                3   31                   2.0   \n",
       "4            sourcing                1   30                   4.0   \n",
       "\n",
       "   length_of_service  KPIs_met >80%  awards_won?  avg_training_score  \\\n",
       "0                  1              1            0                  77   \n",
       "1                  5              0            0                  51   \n",
       "2                  4              0            0                  47   \n",
       "3                  9              0            0                  65   \n",
       "4                  7              0            0                  61   \n",
       "\n",
       "   is_promoted  \n",
       "0          0.0  \n",
       "1          0.0  \n",
       "2          0.0  \n",
       "3          0.0  \n",
       "4          0.0  "
      ]
     },
     "execution_count": 195,
     "metadata": {},
     "output_type": "execute_result"
    }
   ],
   "source": [
    "x['is_promoted'] = test_xgb_preds"
   ]
  },
  {
   "cell_type": "code",
   "execution_count": 196,
   "metadata": {},
   "outputs": [
    {
     "name": "stderr",
     "output_type": "stream",
     "text": [
      "C:\\Users\\joekhaung\\Anaconda3\\envs\\tf\\lib\\site-packages\\ipykernel_launcher.py:2: SettingWithCopyWarning: \n",
      "A value is trying to be set on a copy of a slice from a DataFrame.\n",
      "Try using .loc[row_indexer,col_indexer] = value instead\n",
      "\n",
      "See the caveats in the documentation: https://pandas.pydata.org/pandas-docs/stable/user_guide/indexing.html#returning-a-view-versus-a-copy\n",
      "  \n"
     ]
    }
   ],
   "source": [
    "final1 = x[['employee_id', 'is_promoted']]\n",
    "final1['is_promoted'] = final1['is_promoted'].astype(int)"
   ]
  },
  {
   "cell_type": "code",
   "execution_count": 197,
   "metadata": {},
   "outputs": [],
   "source": [
    "final1.to_csv('xgb_preds_with_hyper_labelencoder.csv', index = False)"
   ]
  },
  {
   "cell_type": "markdown",
   "metadata": {},
   "source": [
    "### Random Forest"
   ]
  },
  {
   "cell_type": "code",
   "execution_count": 198,
   "metadata": {},
   "outputs": [],
   "source": [
    "test_rf_rscv_preds = rf_rscv_model_1.predict(Test_Data)\n",
    "r = b.copy()"
   ]
  },
  {
   "cell_type": "code",
   "execution_count": 199,
   "metadata": {},
   "outputs": [],
   "source": [
    "r['is_promoted'] = test_rf_rscv_preds"
   ]
  },
  {
   "cell_type": "code",
   "execution_count": 200,
   "metadata": {},
   "outputs": [
    {
     "name": "stderr",
     "output_type": "stream",
     "text": [
      "C:\\Users\\joekhaung\\Anaconda3\\envs\\tf\\lib\\site-packages\\ipykernel_launcher.py:2: SettingWithCopyWarning: \n",
      "A value is trying to be set on a copy of a slice from a DataFrame.\n",
      "Try using .loc[row_indexer,col_indexer] = value instead\n",
      "\n",
      "See the caveats in the documentation: https://pandas.pydata.org/pandas-docs/stable/user_guide/indexing.html#returning-a-view-versus-a-copy\n",
      "  \n"
     ]
    }
   ],
   "source": [
    "final2 = r[['employee_id', 'is_promoted']]\n",
    "final2['is_promoted'] = final2['is_promoted'].astype(int)"
   ]
  },
  {
   "cell_type": "code",
   "execution_count": 201,
   "metadata": {},
   "outputs": [],
   "source": [
    "final2.to_csv('rf_preds_with_hyper_labelencoder.csv', index = False)"
   ]
  },
  {
   "cell_type": "code",
   "execution_count": null,
   "metadata": {},
   "outputs": [],
   "source": []
  }
 ],
 "metadata": {
  "kernelspec": {
   "display_name": "Python 3",
   "language": "python",
   "name": "python3"
  },
  "language_info": {
   "codemirror_mode": {
    "name": "ipython",
    "version": 3
   },
   "file_extension": ".py",
   "mimetype": "text/x-python",
   "name": "python",
   "nbconvert_exporter": "python",
   "pygments_lexer": "ipython3",
   "version": "3.7.9"
  }
 },
 "nbformat": 4,
 "nbformat_minor": 4
}
